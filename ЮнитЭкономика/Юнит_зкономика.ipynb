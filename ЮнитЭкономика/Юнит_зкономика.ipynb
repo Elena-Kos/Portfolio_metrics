{
  "nbformat": 4,
  "nbformat_minor": 0,
  "metadata": {
    "colab": {
      "provenance": []
    },
    "kernelspec": {
      "name": "python3",
      "display_name": "Python 3"
    },
    "language_info": {
      "name": "python"
    }
  },
  "cells": [
    {
      "cell_type": "markdown",
      "source": [
        "## **Оценка и оптимизация юнит-экономики для маркетплейса**\n",
        "\n",
        "---\n",
        "\n",
        "**MarketPro** — это маркетплейс, специализирующийся на продаже различных товаров через свою веб-платформу. В его бизнес-модели присутствуют три основных источника дохода:\n",
        "- **комиссия с продавцов** за каждую продажу;\n",
        "- **плата за продвижение товаров** на платформе;\n",
        "- **абонентская плата за подписку** на расширенные функции для продавцов.\n",
        "\n",
        "Несмотря на рост числа пользователей и продавцов на платформе, компания сталкивается с уменьшением рентабельности и ростом затрат на привлечение клиентов.\n",
        "\n",
        "**Задача** – оценить текущие показатели юнит-экономики и предложить оптимизационные меры.\n",
        "\n"
      ],
      "metadata": {
        "id": "YmOqpu5tgZDG"
      }
    },
    {
      "cell_type": "markdown",
      "source": [
        "## Цель анализа\n",
        "\n",
        "Опираясь на информацию установленную как:\n",
        "- **\"Исходные данные\"**,\n",
        "- **\"Дополнительная информация\"**,\n",
        "- **\"Табличные данные\"** из предоставленного обновляемого файла\n",
        "\n",
        "Провести расчеты и определить:\n",
        "\n",
        "- **1)** Исчислить метрики по полученным сведениям;\n",
        "\n",
        "- **2)** Провести расчёты ключевых показателей юнит-экономики для покупателей и продавцов (CAC, LTV и ROI), где:\n",
        "\n",
        " - **CAC** (Customer Acquisition Cost) – стоимость привлечения клиента (расходы делим на количество);\n",
        " - **LTV** (Lifetime Value) – пожизненная ценность клиента;\n",
        " - **ROI** (Return on Investment) – возврат инвестиций.\n",
        "\n",
        "- **3)** Определить проблемные зоны в модели бизнеса;\n",
        "- **4)**  Предложить планы по оптимизации CAC и увеличению LTV."
      ],
      "metadata": {
        "id": "ZXi_5MH9FQu3"
      }
    },
    {
      "cell_type": "markdown",
      "source": [
        "# Раздел 1: Получение данных для анализа"
      ],
      "metadata": {
        "id": "UxPcPlCzwMCQ"
      }
    },
    {
      "cell_type": "markdown",
      "source": [
        "## 1 . Сведения для анализа данных:\n",
        "\n",
        "**Исходные данные помимо данных таблицы:**\n",
        "- 1) стоимость подписки составляет 3 тысячи рублей в месяц;\n",
        "- 2) средний доход с одного покупателя составляет 2 тысячи рублей;\n",
        "- 3) средняя продолжительность взаимодействия для покупателей (в месяцах) — 24 месяца;\n",
        "- 4) средняя продолжительность взаимодействия для продавцов (в месяцах) — 18 месяцев\n",
        "\n",
        "\n",
        "**Дополнительная информация: (см.п.1 Раздел 1)**\n",
        "\n",
        "   - 1) маркетинговые расходы на привлечение покупателей: 3 млн рублей в месяц\n",
        "   - 2) средний объем привлекаемых покупателей: 2000 человек в месяц\n",
        "   - 3) средний объем привлекаемых продавцов: 500 человек в месяц\n",
        "   - 4) операционные расходы на поддержание платформы: 1,5 млн рублей в месяц\n",
        "   - 5) расходы на обслуживание каждого продавца: 1000 рублей в месяц\n",
        "   - 6) удержание покупателей: 20%\n",
        "   - 7) удержание продавцов: 40%"
      ],
      "metadata": {
        "id": "EH3hlFouoS1p"
      }
    },
    {
      "cell_type": "markdown",
      "source": [
        "## 2 . Получение источника информации"
      ],
      "metadata": {
        "id": "gwLpuntJQkco"
      }
    },
    {
      "cell_type": "code",
      "source": [
        "# Импорт библиотек\n",
        "import pandas as pd\n",
        "import seaborn as sns\n",
        "import matplotlib.pyplot as plt\n"
      ],
      "metadata": {
        "id": "_8Qgpc7H2aAl"
      },
      "execution_count": null,
      "outputs": []
    },
    {
      "cell_type": "markdown",
      "source": [
        "### 2.1. Получение информации из табличных данных  о ПРОДАВЦАХ"
      ],
      "metadata": {
        "id": "IxUYpKgPlvVo"
      }
    },
    {
      "cell_type": "code",
      "source": [
        "# Получаем информацию из предоставленных таблиц о ПРОДАВЦАХ\n",
        "# Пути к файлам на Google Диске\n",
        "seller_data_path = '/content/drive/MyDrive/ПОРТФОЛИО/портфолио Метрики/Юнит_экономика Маркетплейса/seller_data.csv'                          # Таблица по продавцам\n",
        "sellers_cohort_data_path = '/content/drive/MyDrive/ПОРТФОЛИО/портфолио Метрики/Юнит_экономика Маркетплейса/sellers_cohort_analysis_data.csv' # Данные по продавцам для построения когорт\n",
        "\n",
        "# Загружаем данные из файлов\n",
        "seller_data = pd.read_csv(seller_data_path)                    # Данные продавцов\n",
        "sellers_cohort_data = pd.read_csv(sellers_cohort_data_path)    # Когортный анализ продавцов\n",
        "\n",
        "# Просмотр первых строк каждой таблицы\n",
        "print(\"Таблица seller_data (Продавцы):\")\n",
        "print(seller_data.head())\n",
        "\n",
        "print(\"\\nТаблица sellers_cohort_analysis_data (Когортный анализ продавцов):\")\n",
        "print(sellers_cohort_data.head())\n",
        "\n",
        "# Проверяем уникальные идентификаторы\n",
        "print(\"\\nПроверка уникальности идентификаторов:\")\n",
        "print(\"seller_data Seller_ID уникальных:\", seller_data['Seller_ID'].nunique())\n",
        "print(\"sellers_cohort_analysis_data seller_id уникальных:\", sellers_cohort_data['seller_id'].nunique())\n",
        "\n",
        "# Приводим названия столбцов для объединения\n",
        "sellers_cohort_data.rename(columns={'seller_id': 'Seller_ID'}, inplace=True)\n",
        "\n",
        "# Объединение таблиц для продавцов (seller_data + sellers_cohort_analysis_data)\n",
        "seller_full_data = pd.merge(seller_data, sellers_cohort_data, on='Seller_ID', how='left')\n",
        "\n",
        "# Перезапишем на df что бы сохранить старый код\n",
        "df = seller_full_data\n",
        "\n",
        "# Просмотр структуры объединенных данных о продавцах\n",
        "print(\"\\nОбъединенные данные о продавцах в файле df:\")\n",
        "print(df.head())\n",
        "\n",
        "# Теперь df используется для анализа продавцов\n"
      ],
      "metadata": {
        "colab": {
          "base_uri": "https://localhost:8080/"
        },
        "id": "caVRzghlf9EY",
        "outputId": "565b3446-5d87-4a73-ab2f-e95b770c1dcb"
      },
      "execution_count": null,
      "outputs": [
        {
          "output_type": "stream",
          "name": "stdout",
          "text": [
            "Таблица seller_data (Продавцы):\n",
            "   Seller_ID  Order_Value  Commission_Rate  Promotion_Used  Subscription  \\\n",
            "0          1  2248.357077         0.086699            True         False   \n",
            "1          2  1930.867849         0.084183            True          True   \n",
            "2          3  2323.844269         0.105457            True         False   \n",
            "3          4  2761.514928         0.108259            True         False   \n",
            "4          5  1882.923313         0.081263           False         False   \n",
            "\n",
            "   Promotion_Income  Subscription_Income  \n",
            "0              5000                    0  \n",
            "1              5000                 3000  \n",
            "2              5000                    0  \n",
            "3              5000                    0  \n",
            "4                 0                    0  \n",
            "\n",
            "Таблица sellers_cohort_analysis_data (Когортный анализ продавцов):\n",
            "   seller_id registration_date  activity_1_month  activity_3_month  \\\n",
            "0          1        2021-03-23                 1                 0   \n",
            "1          2        2022-11-30                 0                 0   \n",
            "2          3        2021-11-17                 0                 1   \n",
            "3          4        2021-09-06                 1                 1   \n",
            "4          5        2021-01-04                 1                 1   \n",
            "\n",
            "   activity_6_month  activity_12_month  \n",
            "0                 0                  0  \n",
            "1                 0                  1  \n",
            "2                 0                  0  \n",
            "3                 0                  0  \n",
            "4                 0                  0  \n",
            "\n",
            "Проверка уникальности идентификаторов:\n",
            "seller_data Seller_ID уникальных: 1000\n",
            "sellers_cohort_analysis_data seller_id уникальных: 500\n",
            "\n",
            "Объединенные данные о продавцах в файле df:\n",
            "   Seller_ID  Order_Value  Commission_Rate  Promotion_Used  Subscription  \\\n",
            "0          1  2248.357077         0.086699            True         False   \n",
            "1          2  1930.867849         0.084183            True          True   \n",
            "2          3  2323.844269         0.105457            True         False   \n",
            "3          4  2761.514928         0.108259            True         False   \n",
            "4          5  1882.923313         0.081263           False         False   \n",
            "\n",
            "   Promotion_Income  Subscription_Income registration_date  activity_1_month  \\\n",
            "0              5000                    0        2021-03-23               1.0   \n",
            "1              5000                 3000        2022-11-30               0.0   \n",
            "2              5000                    0        2021-11-17               0.0   \n",
            "3              5000                    0        2021-09-06               1.0   \n",
            "4                 0                    0        2021-01-04               1.0   \n",
            "\n",
            "   activity_3_month  activity_6_month  activity_12_month  \n",
            "0               0.0               0.0                0.0  \n",
            "1               0.0               0.0                1.0  \n",
            "2               1.0               0.0                0.0  \n",
            "3               1.0               0.0                0.0  \n",
            "4               1.0               0.0                0.0  \n"
          ]
        }
      ]
    },
    {
      "cell_type": "code",
      "source": [
        "# Проверим первые 5 строк для общего понимания структуры данных с ПРОДАВЦАМИ\n",
        "df.head()"
      ],
      "metadata": {
        "colab": {
          "base_uri": "https://localhost:8080/",
          "height": 224
        },
        "id": "27sz_Q0xQl3s",
        "outputId": "d03e165b-aa8b-4765-aeac-cb1025eb4440"
      },
      "execution_count": null,
      "outputs": [
        {
          "output_type": "execute_result",
          "data": {
            "text/plain": [
              "   Seller_ID  Order_Value  Commission_Rate  Promotion_Used  Subscription  \\\n",
              "0          1  2248.357077         0.086699            True         False   \n",
              "1          2  1930.867849         0.084183            True          True   \n",
              "2          3  2323.844269         0.105457            True         False   \n",
              "3          4  2761.514928         0.108259            True         False   \n",
              "4          5  1882.923313         0.081263           False         False   \n",
              "\n",
              "   Promotion_Income  Subscription_Income registration_date  activity_1_month  \\\n",
              "0              5000                    0        2021-03-23               1.0   \n",
              "1              5000                 3000        2022-11-30               0.0   \n",
              "2              5000                    0        2021-11-17               0.0   \n",
              "3              5000                    0        2021-09-06               1.0   \n",
              "4                 0                    0        2021-01-04               1.0   \n",
              "\n",
              "   activity_3_month  activity_6_month  activity_12_month  \n",
              "0               0.0               0.0                0.0  \n",
              "1               0.0               0.0                1.0  \n",
              "2               1.0               0.0                0.0  \n",
              "3               1.0               0.0                0.0  \n",
              "4               1.0               0.0                0.0  "
            ],
            "text/html": [
              "\n",
              "  <div id=\"df-8aebc6ad-a916-4518-8609-b95b4a0d70c7\" class=\"colab-df-container\">\n",
              "    <div>\n",
              "<style scoped>\n",
              "    .dataframe tbody tr th:only-of-type {\n",
              "        vertical-align: middle;\n",
              "    }\n",
              "\n",
              "    .dataframe tbody tr th {\n",
              "        vertical-align: top;\n",
              "    }\n",
              "\n",
              "    .dataframe thead th {\n",
              "        text-align: right;\n",
              "    }\n",
              "</style>\n",
              "<table border=\"1\" class=\"dataframe\">\n",
              "  <thead>\n",
              "    <tr style=\"text-align: right;\">\n",
              "      <th></th>\n",
              "      <th>Seller_ID</th>\n",
              "      <th>Order_Value</th>\n",
              "      <th>Commission_Rate</th>\n",
              "      <th>Promotion_Used</th>\n",
              "      <th>Subscription</th>\n",
              "      <th>Promotion_Income</th>\n",
              "      <th>Subscription_Income</th>\n",
              "      <th>registration_date</th>\n",
              "      <th>activity_1_month</th>\n",
              "      <th>activity_3_month</th>\n",
              "      <th>activity_6_month</th>\n",
              "      <th>activity_12_month</th>\n",
              "    </tr>\n",
              "  </thead>\n",
              "  <tbody>\n",
              "    <tr>\n",
              "      <th>0</th>\n",
              "      <td>1</td>\n",
              "      <td>2248.357077</td>\n",
              "      <td>0.086699</td>\n",
              "      <td>True</td>\n",
              "      <td>False</td>\n",
              "      <td>5000</td>\n",
              "      <td>0</td>\n",
              "      <td>2021-03-23</td>\n",
              "      <td>1.0</td>\n",
              "      <td>0.0</td>\n",
              "      <td>0.0</td>\n",
              "      <td>0.0</td>\n",
              "    </tr>\n",
              "    <tr>\n",
              "      <th>1</th>\n",
              "      <td>2</td>\n",
              "      <td>1930.867849</td>\n",
              "      <td>0.084183</td>\n",
              "      <td>True</td>\n",
              "      <td>True</td>\n",
              "      <td>5000</td>\n",
              "      <td>3000</td>\n",
              "      <td>2022-11-30</td>\n",
              "      <td>0.0</td>\n",
              "      <td>0.0</td>\n",
              "      <td>0.0</td>\n",
              "      <td>1.0</td>\n",
              "    </tr>\n",
              "    <tr>\n",
              "      <th>2</th>\n",
              "      <td>3</td>\n",
              "      <td>2323.844269</td>\n",
              "      <td>0.105457</td>\n",
              "      <td>True</td>\n",
              "      <td>False</td>\n",
              "      <td>5000</td>\n",
              "      <td>0</td>\n",
              "      <td>2021-11-17</td>\n",
              "      <td>0.0</td>\n",
              "      <td>1.0</td>\n",
              "      <td>0.0</td>\n",
              "      <td>0.0</td>\n",
              "    </tr>\n",
              "    <tr>\n",
              "      <th>3</th>\n",
              "      <td>4</td>\n",
              "      <td>2761.514928</td>\n",
              "      <td>0.108259</td>\n",
              "      <td>True</td>\n",
              "      <td>False</td>\n",
              "      <td>5000</td>\n",
              "      <td>0</td>\n",
              "      <td>2021-09-06</td>\n",
              "      <td>1.0</td>\n",
              "      <td>1.0</td>\n",
              "      <td>0.0</td>\n",
              "      <td>0.0</td>\n",
              "    </tr>\n",
              "    <tr>\n",
              "      <th>4</th>\n",
              "      <td>5</td>\n",
              "      <td>1882.923313</td>\n",
              "      <td>0.081263</td>\n",
              "      <td>False</td>\n",
              "      <td>False</td>\n",
              "      <td>0</td>\n",
              "      <td>0</td>\n",
              "      <td>2021-01-04</td>\n",
              "      <td>1.0</td>\n",
              "      <td>1.0</td>\n",
              "      <td>0.0</td>\n",
              "      <td>0.0</td>\n",
              "    </tr>\n",
              "  </tbody>\n",
              "</table>\n",
              "</div>\n",
              "    <div class=\"colab-df-buttons\">\n",
              "\n",
              "  <div class=\"colab-df-container\">\n",
              "    <button class=\"colab-df-convert\" onclick=\"convertToInteractive('df-8aebc6ad-a916-4518-8609-b95b4a0d70c7')\"\n",
              "            title=\"Convert this dataframe to an interactive table.\"\n",
              "            style=\"display:none;\">\n",
              "\n",
              "  <svg xmlns=\"http://www.w3.org/2000/svg\" height=\"24px\" viewBox=\"0 -960 960 960\">\n",
              "    <path d=\"M120-120v-720h720v720H120Zm60-500h600v-160H180v160Zm220 220h160v-160H400v160Zm0 220h160v-160H400v160ZM180-400h160v-160H180v160Zm440 0h160v-160H620v160ZM180-180h160v-160H180v160Zm440 0h160v-160H620v160Z\"/>\n",
              "  </svg>\n",
              "    </button>\n",
              "\n",
              "  <style>\n",
              "    .colab-df-container {\n",
              "      display:flex;\n",
              "      gap: 12px;\n",
              "    }\n",
              "\n",
              "    .colab-df-convert {\n",
              "      background-color: #E8F0FE;\n",
              "      border: none;\n",
              "      border-radius: 50%;\n",
              "      cursor: pointer;\n",
              "      display: none;\n",
              "      fill: #1967D2;\n",
              "      height: 32px;\n",
              "      padding: 0 0 0 0;\n",
              "      width: 32px;\n",
              "    }\n",
              "\n",
              "    .colab-df-convert:hover {\n",
              "      background-color: #E2EBFA;\n",
              "      box-shadow: 0px 1px 2px rgba(60, 64, 67, 0.3), 0px 1px 3px 1px rgba(60, 64, 67, 0.15);\n",
              "      fill: #174EA6;\n",
              "    }\n",
              "\n",
              "    .colab-df-buttons div {\n",
              "      margin-bottom: 4px;\n",
              "    }\n",
              "\n",
              "    [theme=dark] .colab-df-convert {\n",
              "      background-color: #3B4455;\n",
              "      fill: #D2E3FC;\n",
              "    }\n",
              "\n",
              "    [theme=dark] .colab-df-convert:hover {\n",
              "      background-color: #434B5C;\n",
              "      box-shadow: 0px 1px 3px 1px rgba(0, 0, 0, 0.15);\n",
              "      filter: drop-shadow(0px 1px 2px rgba(0, 0, 0, 0.3));\n",
              "      fill: #FFFFFF;\n",
              "    }\n",
              "  </style>\n",
              "\n",
              "    <script>\n",
              "      const buttonEl =\n",
              "        document.querySelector('#df-8aebc6ad-a916-4518-8609-b95b4a0d70c7 button.colab-df-convert');\n",
              "      buttonEl.style.display =\n",
              "        google.colab.kernel.accessAllowed ? 'block' : 'none';\n",
              "\n",
              "      async function convertToInteractive(key) {\n",
              "        const element = document.querySelector('#df-8aebc6ad-a916-4518-8609-b95b4a0d70c7');\n",
              "        const dataTable =\n",
              "          await google.colab.kernel.invokeFunction('convertToInteractive',\n",
              "                                                    [key], {});\n",
              "        if (!dataTable) return;\n",
              "\n",
              "        const docLinkHtml = 'Like what you see? Visit the ' +\n",
              "          '<a target=\"_blank\" href=https://colab.research.google.com/notebooks/data_table.ipynb>data table notebook</a>'\n",
              "          + ' to learn more about interactive tables.';\n",
              "        element.innerHTML = '';\n",
              "        dataTable['output_type'] = 'display_data';\n",
              "        await google.colab.output.renderOutput(dataTable, element);\n",
              "        const docLink = document.createElement('div');\n",
              "        docLink.innerHTML = docLinkHtml;\n",
              "        element.appendChild(docLink);\n",
              "      }\n",
              "    </script>\n",
              "  </div>\n",
              "\n",
              "\n",
              "<div id=\"df-6f70094f-7591-490b-94c7-c911cdb8286b\">\n",
              "  <button class=\"colab-df-quickchart\" onclick=\"quickchart('df-6f70094f-7591-490b-94c7-c911cdb8286b')\"\n",
              "            title=\"Suggest charts\"\n",
              "            style=\"display:none;\">\n",
              "\n",
              "<svg xmlns=\"http://www.w3.org/2000/svg\" height=\"24px\"viewBox=\"0 0 24 24\"\n",
              "     width=\"24px\">\n",
              "    <g>\n",
              "        <path d=\"M19 3H5c-1.1 0-2 .9-2 2v14c0 1.1.9 2 2 2h14c1.1 0 2-.9 2-2V5c0-1.1-.9-2-2-2zM9 17H7v-7h2v7zm4 0h-2V7h2v10zm4 0h-2v-4h2v4z\"/>\n",
              "    </g>\n",
              "</svg>\n",
              "  </button>\n",
              "\n",
              "<style>\n",
              "  .colab-df-quickchart {\n",
              "      --bg-color: #E8F0FE;\n",
              "      --fill-color: #1967D2;\n",
              "      --hover-bg-color: #E2EBFA;\n",
              "      --hover-fill-color: #174EA6;\n",
              "      --disabled-fill-color: #AAA;\n",
              "      --disabled-bg-color: #DDD;\n",
              "  }\n",
              "\n",
              "  [theme=dark] .colab-df-quickchart {\n",
              "      --bg-color: #3B4455;\n",
              "      --fill-color: #D2E3FC;\n",
              "      --hover-bg-color: #434B5C;\n",
              "      --hover-fill-color: #FFFFFF;\n",
              "      --disabled-bg-color: #3B4455;\n",
              "      --disabled-fill-color: #666;\n",
              "  }\n",
              "\n",
              "  .colab-df-quickchart {\n",
              "    background-color: var(--bg-color);\n",
              "    border: none;\n",
              "    border-radius: 50%;\n",
              "    cursor: pointer;\n",
              "    display: none;\n",
              "    fill: var(--fill-color);\n",
              "    height: 32px;\n",
              "    padding: 0;\n",
              "    width: 32px;\n",
              "  }\n",
              "\n",
              "  .colab-df-quickchart:hover {\n",
              "    background-color: var(--hover-bg-color);\n",
              "    box-shadow: 0 1px 2px rgba(60, 64, 67, 0.3), 0 1px 3px 1px rgba(60, 64, 67, 0.15);\n",
              "    fill: var(--button-hover-fill-color);\n",
              "  }\n",
              "\n",
              "  .colab-df-quickchart-complete:disabled,\n",
              "  .colab-df-quickchart-complete:disabled:hover {\n",
              "    background-color: var(--disabled-bg-color);\n",
              "    fill: var(--disabled-fill-color);\n",
              "    box-shadow: none;\n",
              "  }\n",
              "\n",
              "  .colab-df-spinner {\n",
              "    border: 2px solid var(--fill-color);\n",
              "    border-color: transparent;\n",
              "    border-bottom-color: var(--fill-color);\n",
              "    animation:\n",
              "      spin 1s steps(1) infinite;\n",
              "  }\n",
              "\n",
              "  @keyframes spin {\n",
              "    0% {\n",
              "      border-color: transparent;\n",
              "      border-bottom-color: var(--fill-color);\n",
              "      border-left-color: var(--fill-color);\n",
              "    }\n",
              "    20% {\n",
              "      border-color: transparent;\n",
              "      border-left-color: var(--fill-color);\n",
              "      border-top-color: var(--fill-color);\n",
              "    }\n",
              "    30% {\n",
              "      border-color: transparent;\n",
              "      border-left-color: var(--fill-color);\n",
              "      border-top-color: var(--fill-color);\n",
              "      border-right-color: var(--fill-color);\n",
              "    }\n",
              "    40% {\n",
              "      border-color: transparent;\n",
              "      border-right-color: var(--fill-color);\n",
              "      border-top-color: var(--fill-color);\n",
              "    }\n",
              "    60% {\n",
              "      border-color: transparent;\n",
              "      border-right-color: var(--fill-color);\n",
              "    }\n",
              "    80% {\n",
              "      border-color: transparent;\n",
              "      border-right-color: var(--fill-color);\n",
              "      border-bottom-color: var(--fill-color);\n",
              "    }\n",
              "    90% {\n",
              "      border-color: transparent;\n",
              "      border-bottom-color: var(--fill-color);\n",
              "    }\n",
              "  }\n",
              "</style>\n",
              "\n",
              "  <script>\n",
              "    async function quickchart(key) {\n",
              "      const quickchartButtonEl =\n",
              "        document.querySelector('#' + key + ' button');\n",
              "      quickchartButtonEl.disabled = true;  // To prevent multiple clicks.\n",
              "      quickchartButtonEl.classList.add('colab-df-spinner');\n",
              "      try {\n",
              "        const charts = await google.colab.kernel.invokeFunction(\n",
              "            'suggestCharts', [key], {});\n",
              "      } catch (error) {\n",
              "        console.error('Error during call to suggestCharts:', error);\n",
              "      }\n",
              "      quickchartButtonEl.classList.remove('colab-df-spinner');\n",
              "      quickchartButtonEl.classList.add('colab-df-quickchart-complete');\n",
              "    }\n",
              "    (() => {\n",
              "      let quickchartButtonEl =\n",
              "        document.querySelector('#df-6f70094f-7591-490b-94c7-c911cdb8286b button');\n",
              "      quickchartButtonEl.style.display =\n",
              "        google.colab.kernel.accessAllowed ? 'block' : 'none';\n",
              "    })();\n",
              "  </script>\n",
              "</div>\n",
              "    </div>\n",
              "  </div>\n"
            ],
            "application/vnd.google.colaboratory.intrinsic+json": {
              "type": "dataframe",
              "variable_name": "df",
              "summary": "{\n  \"name\": \"df\",\n  \"rows\": 1000,\n  \"fields\": [\n    {\n      \"column\": \"Seller_ID\",\n      \"properties\": {\n        \"dtype\": \"number\",\n        \"std\": 288,\n        \"min\": 1,\n        \"max\": 1000,\n        \"num_unique_values\": 1000,\n        \"samples\": [\n          522,\n          738,\n          741\n        ],\n        \"semantic_type\": \"\",\n        \"description\": \"\"\n      }\n    },\n    {\n      \"column\": \"Order_Value\",\n      \"properties\": {\n        \"dtype\": \"number\",\n        \"std\": 489.60796908983775,\n        \"min\": 379.3663299654638,\n        \"max\": 3926.365745327361,\n        \"num_unique_values\": 1000,\n        \"samples\": [\n          2271.680096189968,\n          2491.345491972757,\n          1079.5628843341774\n        ],\n        \"semantic_type\": \"\",\n        \"description\": \"\"\n      }\n    },\n    {\n      \"column\": \"Commission_Rate\",\n      \"properties\": {\n        \"dtype\": \"number\",\n        \"std\": 0.01153427340258593,\n        \"min\": 0.0801287305441711,\n        \"max\": 0.1199765490308266,\n        \"num_unique_values\": 1000,\n        \"samples\": [\n          0.1107689259135253,\n          0.1188802131852614,\n          0.0845638313955173\n        ],\n        \"semantic_type\": \"\",\n        \"description\": \"\"\n      }\n    },\n    {\n      \"column\": \"Promotion_Used\",\n      \"properties\": {\n        \"dtype\": \"boolean\",\n        \"num_unique_values\": 2,\n        \"samples\": [\n          false,\n          true\n        ],\n        \"semantic_type\": \"\",\n        \"description\": \"\"\n      }\n    },\n    {\n      \"column\": \"Subscription\",\n      \"properties\": {\n        \"dtype\": \"boolean\",\n        \"num_unique_values\": 2,\n        \"samples\": [\n          true,\n          false\n        ],\n        \"semantic_type\": \"\",\n        \"description\": \"\"\n      }\n    },\n    {\n      \"column\": \"Promotion_Income\",\n      \"properties\": {\n        \"dtype\": \"number\",\n        \"std\": 2500,\n        \"min\": 0,\n        \"max\": 5000,\n        \"num_unique_values\": 2,\n        \"samples\": [\n          0,\n          5000\n        ],\n        \"semantic_type\": \"\",\n        \"description\": \"\"\n      }\n    },\n    {\n      \"column\": \"Subscription_Income\",\n      \"properties\": {\n        \"dtype\": \"number\",\n        \"std\": 1198,\n        \"min\": 0,\n        \"max\": 3000,\n        \"num_unique_values\": 2,\n        \"samples\": [\n          3000,\n          0\n        ],\n        \"semantic_type\": \"\",\n        \"description\": \"\"\n      }\n    },\n    {\n      \"column\": \"registration_date\",\n      \"properties\": {\n        \"dtype\": \"object\",\n        \"num_unique_values\": 372,\n        \"samples\": [\n          \"2021-02-16\",\n          \"2021-04-15\"\n        ],\n        \"semantic_type\": \"\",\n        \"description\": \"\"\n      }\n    },\n    {\n      \"column\": \"activity_1_month\",\n      \"properties\": {\n        \"dtype\": \"number\",\n        \"std\": 0.48382245538696816,\n        \"min\": 0.0,\n        \"max\": 1.0,\n        \"num_unique_values\": 2,\n        \"samples\": [\n          0.0,\n          1.0\n        ],\n        \"semantic_type\": \"\",\n        \"description\": \"\"\n      }\n    },\n    {\n      \"column\": \"activity_3_month\",\n      \"properties\": {\n        \"dtype\": \"number\",\n        \"std\": 0.5004647139007077,\n        \"min\": 0.0,\n        \"max\": 1.0,\n        \"num_unique_values\": 2,\n        \"samples\": [\n          1.0,\n          0.0\n        ],\n        \"semantic_type\": \"\",\n        \"description\": \"\"\n      }\n    },\n    {\n      \"column\": \"activity_6_month\",\n      \"properties\": {\n        \"dtype\": \"number\",\n        \"std\": 0.45042398196261185,\n        \"min\": 0.0,\n        \"max\": 1.0,\n        \"num_unique_values\": 2,\n        \"samples\": [\n          1.0,\n          0.0\n        ],\n        \"semantic_type\": \"\",\n        \"description\": \"\"\n      }\n    },\n    {\n      \"column\": \"activity_12_month\",\n      \"properties\": {\n        \"dtype\": \"number\",\n        \"std\": 0.37600899660920595,\n        \"min\": 0.0,\n        \"max\": 1.0,\n        \"num_unique_values\": 2,\n        \"samples\": [\n          1.0,\n          0.0\n        ],\n        \"semantic_type\": \"\",\n        \"description\": \"\"\n      }\n    }\n  ]\n}"
            }
          },
          "metadata": {},
          "execution_count": 70
        }
      ]
    },
    {
      "cell_type": "code",
      "source": [
        "# Получаем информацию о DataFrame с ПРОДАВЦАМИ\n",
        "df.info()"
      ],
      "metadata": {
        "colab": {
          "base_uri": "https://localhost:8080/"
        },
        "id": "-EexBgXlRQS2",
        "outputId": "8b616cdb-5a0b-44c0-fd88-de55e8b1da62"
      },
      "execution_count": null,
      "outputs": [
        {
          "output_type": "stream",
          "name": "stdout",
          "text": [
            "<class 'pandas.core.frame.DataFrame'>\n",
            "RangeIndex: 1000 entries, 0 to 999\n",
            "Data columns (total 12 columns):\n",
            " #   Column               Non-Null Count  Dtype  \n",
            "---  ------               --------------  -----  \n",
            " 0   Seller_ID            1000 non-null   int64  \n",
            " 1   Order_Value          1000 non-null   float64\n",
            " 2   Commission_Rate      1000 non-null   float64\n",
            " 3   Promotion_Used       1000 non-null   bool   \n",
            " 4   Subscription         1000 non-null   bool   \n",
            " 5   Promotion_Income     1000 non-null   int64  \n",
            " 6   Subscription_Income  1000 non-null   int64  \n",
            " 7   registration_date    500 non-null    object \n",
            " 8   activity_1_month     500 non-null    float64\n",
            " 9   activity_3_month     500 non-null    float64\n",
            " 10  activity_6_month     500 non-null    float64\n",
            " 11  activity_12_month    500 non-null    float64\n",
            "dtypes: bool(2), float64(6), int64(3), object(1)\n",
            "memory usage: 80.2+ KB\n"
          ]
        }
      ]
    },
    {
      "cell_type": "markdown",
      "source": [
        "### 2.2. Получение информации из табличных данных  о ПОКУПАТЕЛЯХ"
      ],
      "metadata": {
        "id": "0S5Oub_kmEzO"
      }
    },
    {
      "cell_type": "code",
      "source": [
        "# Получаем информацию из предоставленных таблиц о ПОКУПАТЕЛЯХ\n",
        "# Пути к файлам на Google Диске\n",
        "cohort_analysis_data_path = '/content/drive/MyDrive/ПОРТФОЛИО/портфолио Метрики/Юнит_экономика Маркетплейса/cohort_analysis_data.csv'        # Когорты\n",
        "\n",
        "# Загружаем данные из файлов\n",
        "cohort_analysis_data = pd.read_csv(cohort_analysis_data_path)  # Когортный анализ покупателей\n",
        "\n",
        "# Просмотр первых строк каждой таблицы\n",
        "print(\"\\nТаблица cohort_analysis_data (Когортный анализ покупателей):\")\n",
        "print(cohort_analysis_data.head())\n",
        "\n",
        "# Проверяем уникальные идентификаторы\n",
        "print(\"\\nПроверка уникальности идентификаторов:\")\n",
        "print(\"cohort_analysis_data user_id уникальных:\", cohort_analysis_data['user_id'].nunique())\n",
        "\n",
        "# Данные для анализа покупателей остаются отдельно\n",
        "buyers_cohort_data = cohort_analysis_data\n",
        "\n",
        "# Теперь buyers_cohort_data — для анализа покупателей."
      ],
      "metadata": {
        "colab": {
          "base_uri": "https://localhost:8080/"
        },
        "id": "AA_KJrh4lgoY",
        "outputId": "11f02158-6b7e-4fcc-99ae-070ccb37b083"
      },
      "execution_count": null,
      "outputs": [
        {
          "output_type": "stream",
          "name": "stdout",
          "text": [
            "\n",
            "Таблица cohort_analysis_data (Когортный анализ покупателей):\n",
            "   user_id registration_date  activity_1_month  activity_3_month  \\\n",
            "0        1        2021-06-09                 0                 1   \n",
            "1        2        2021-08-09                 0                 0   \n",
            "2        3        2021-07-12                 0                 0   \n",
            "3        4        2022-04-13                 0                 0   \n",
            "4        5        2021-01-24                 1                 0   \n",
            "\n",
            "   activity_6_month  activity_12_month  \n",
            "0                 0                  0  \n",
            "1                 0                  0  \n",
            "2                 0                  0  \n",
            "3                 0                  0  \n",
            "4                 0                  0  \n",
            "\n",
            "Проверка уникальности идентификаторов:\n",
            "cohort_analysis_data user_id уникальных: 1000\n"
          ]
        }
      ]
    },
    {
      "cell_type": "code",
      "source": [
        "# Проверим первые 5 строк для общего понимания структуры данных с ПОКУПАТЕЛЯМИ\n",
        "buyers_cohort_data.head()"
      ],
      "metadata": {
        "colab": {
          "base_uri": "https://localhost:8080/",
          "height": 204
        },
        "id": "lHpnOhTGikpE",
        "outputId": "70780eda-5270-480e-8ccc-b52b0afd3c3d"
      },
      "execution_count": null,
      "outputs": [
        {
          "output_type": "execute_result",
          "data": {
            "text/plain": [
              "   user_id registration_date  activity_1_month  activity_3_month  \\\n",
              "0        1        2021-06-09                 0                 1   \n",
              "1        2        2021-08-09                 0                 0   \n",
              "2        3        2021-07-12                 0                 0   \n",
              "3        4        2022-04-13                 0                 0   \n",
              "4        5        2021-01-24                 1                 0   \n",
              "\n",
              "   activity_6_month  activity_12_month  \n",
              "0                 0                  0  \n",
              "1                 0                  0  \n",
              "2                 0                  0  \n",
              "3                 0                  0  \n",
              "4                 0                  0  "
            ],
            "text/html": [
              "\n",
              "  <div id=\"df-ced5d032-41d0-49fc-bd7d-320d7d9e2063\" class=\"colab-df-container\">\n",
              "    <div>\n",
              "<style scoped>\n",
              "    .dataframe tbody tr th:only-of-type {\n",
              "        vertical-align: middle;\n",
              "    }\n",
              "\n",
              "    .dataframe tbody tr th {\n",
              "        vertical-align: top;\n",
              "    }\n",
              "\n",
              "    .dataframe thead th {\n",
              "        text-align: right;\n",
              "    }\n",
              "</style>\n",
              "<table border=\"1\" class=\"dataframe\">\n",
              "  <thead>\n",
              "    <tr style=\"text-align: right;\">\n",
              "      <th></th>\n",
              "      <th>user_id</th>\n",
              "      <th>registration_date</th>\n",
              "      <th>activity_1_month</th>\n",
              "      <th>activity_3_month</th>\n",
              "      <th>activity_6_month</th>\n",
              "      <th>activity_12_month</th>\n",
              "    </tr>\n",
              "  </thead>\n",
              "  <tbody>\n",
              "    <tr>\n",
              "      <th>0</th>\n",
              "      <td>1</td>\n",
              "      <td>2021-06-09</td>\n",
              "      <td>0</td>\n",
              "      <td>1</td>\n",
              "      <td>0</td>\n",
              "      <td>0</td>\n",
              "    </tr>\n",
              "    <tr>\n",
              "      <th>1</th>\n",
              "      <td>2</td>\n",
              "      <td>2021-08-09</td>\n",
              "      <td>0</td>\n",
              "      <td>0</td>\n",
              "      <td>0</td>\n",
              "      <td>0</td>\n",
              "    </tr>\n",
              "    <tr>\n",
              "      <th>2</th>\n",
              "      <td>3</td>\n",
              "      <td>2021-07-12</td>\n",
              "      <td>0</td>\n",
              "      <td>0</td>\n",
              "      <td>0</td>\n",
              "      <td>0</td>\n",
              "    </tr>\n",
              "    <tr>\n",
              "      <th>3</th>\n",
              "      <td>4</td>\n",
              "      <td>2022-04-13</td>\n",
              "      <td>0</td>\n",
              "      <td>0</td>\n",
              "      <td>0</td>\n",
              "      <td>0</td>\n",
              "    </tr>\n",
              "    <tr>\n",
              "      <th>4</th>\n",
              "      <td>5</td>\n",
              "      <td>2021-01-24</td>\n",
              "      <td>1</td>\n",
              "      <td>0</td>\n",
              "      <td>0</td>\n",
              "      <td>0</td>\n",
              "    </tr>\n",
              "  </tbody>\n",
              "</table>\n",
              "</div>\n",
              "    <div class=\"colab-df-buttons\">\n",
              "\n",
              "  <div class=\"colab-df-container\">\n",
              "    <button class=\"colab-df-convert\" onclick=\"convertToInteractive('df-ced5d032-41d0-49fc-bd7d-320d7d9e2063')\"\n",
              "            title=\"Convert this dataframe to an interactive table.\"\n",
              "            style=\"display:none;\">\n",
              "\n",
              "  <svg xmlns=\"http://www.w3.org/2000/svg\" height=\"24px\" viewBox=\"0 -960 960 960\">\n",
              "    <path d=\"M120-120v-720h720v720H120Zm60-500h600v-160H180v160Zm220 220h160v-160H400v160Zm0 220h160v-160H400v160ZM180-400h160v-160H180v160Zm440 0h160v-160H620v160ZM180-180h160v-160H180v160Zm440 0h160v-160H620v160Z\"/>\n",
              "  </svg>\n",
              "    </button>\n",
              "\n",
              "  <style>\n",
              "    .colab-df-container {\n",
              "      display:flex;\n",
              "      gap: 12px;\n",
              "    }\n",
              "\n",
              "    .colab-df-convert {\n",
              "      background-color: #E8F0FE;\n",
              "      border: none;\n",
              "      border-radius: 50%;\n",
              "      cursor: pointer;\n",
              "      display: none;\n",
              "      fill: #1967D2;\n",
              "      height: 32px;\n",
              "      padding: 0 0 0 0;\n",
              "      width: 32px;\n",
              "    }\n",
              "\n",
              "    .colab-df-convert:hover {\n",
              "      background-color: #E2EBFA;\n",
              "      box-shadow: 0px 1px 2px rgba(60, 64, 67, 0.3), 0px 1px 3px 1px rgba(60, 64, 67, 0.15);\n",
              "      fill: #174EA6;\n",
              "    }\n",
              "\n",
              "    .colab-df-buttons div {\n",
              "      margin-bottom: 4px;\n",
              "    }\n",
              "\n",
              "    [theme=dark] .colab-df-convert {\n",
              "      background-color: #3B4455;\n",
              "      fill: #D2E3FC;\n",
              "    }\n",
              "\n",
              "    [theme=dark] .colab-df-convert:hover {\n",
              "      background-color: #434B5C;\n",
              "      box-shadow: 0px 1px 3px 1px rgba(0, 0, 0, 0.15);\n",
              "      filter: drop-shadow(0px 1px 2px rgba(0, 0, 0, 0.3));\n",
              "      fill: #FFFFFF;\n",
              "    }\n",
              "  </style>\n",
              "\n",
              "    <script>\n",
              "      const buttonEl =\n",
              "        document.querySelector('#df-ced5d032-41d0-49fc-bd7d-320d7d9e2063 button.colab-df-convert');\n",
              "      buttonEl.style.display =\n",
              "        google.colab.kernel.accessAllowed ? 'block' : 'none';\n",
              "\n",
              "      async function convertToInteractive(key) {\n",
              "        const element = document.querySelector('#df-ced5d032-41d0-49fc-bd7d-320d7d9e2063');\n",
              "        const dataTable =\n",
              "          await google.colab.kernel.invokeFunction('convertToInteractive',\n",
              "                                                    [key], {});\n",
              "        if (!dataTable) return;\n",
              "\n",
              "        const docLinkHtml = 'Like what you see? Visit the ' +\n",
              "          '<a target=\"_blank\" href=https://colab.research.google.com/notebooks/data_table.ipynb>data table notebook</a>'\n",
              "          + ' to learn more about interactive tables.';\n",
              "        element.innerHTML = '';\n",
              "        dataTable['output_type'] = 'display_data';\n",
              "        await google.colab.output.renderOutput(dataTable, element);\n",
              "        const docLink = document.createElement('div');\n",
              "        docLink.innerHTML = docLinkHtml;\n",
              "        element.appendChild(docLink);\n",
              "      }\n",
              "    </script>\n",
              "  </div>\n",
              "\n",
              "\n",
              "<div id=\"df-cca6661b-5204-4e28-a7e2-7583cdef1698\">\n",
              "  <button class=\"colab-df-quickchart\" onclick=\"quickchart('df-cca6661b-5204-4e28-a7e2-7583cdef1698')\"\n",
              "            title=\"Suggest charts\"\n",
              "            style=\"display:none;\">\n",
              "\n",
              "<svg xmlns=\"http://www.w3.org/2000/svg\" height=\"24px\"viewBox=\"0 0 24 24\"\n",
              "     width=\"24px\">\n",
              "    <g>\n",
              "        <path d=\"M19 3H5c-1.1 0-2 .9-2 2v14c0 1.1.9 2 2 2h14c1.1 0 2-.9 2-2V5c0-1.1-.9-2-2-2zM9 17H7v-7h2v7zm4 0h-2V7h2v10zm4 0h-2v-4h2v4z\"/>\n",
              "    </g>\n",
              "</svg>\n",
              "  </button>\n",
              "\n",
              "<style>\n",
              "  .colab-df-quickchart {\n",
              "      --bg-color: #E8F0FE;\n",
              "      --fill-color: #1967D2;\n",
              "      --hover-bg-color: #E2EBFA;\n",
              "      --hover-fill-color: #174EA6;\n",
              "      --disabled-fill-color: #AAA;\n",
              "      --disabled-bg-color: #DDD;\n",
              "  }\n",
              "\n",
              "  [theme=dark] .colab-df-quickchart {\n",
              "      --bg-color: #3B4455;\n",
              "      --fill-color: #D2E3FC;\n",
              "      --hover-bg-color: #434B5C;\n",
              "      --hover-fill-color: #FFFFFF;\n",
              "      --disabled-bg-color: #3B4455;\n",
              "      --disabled-fill-color: #666;\n",
              "  }\n",
              "\n",
              "  .colab-df-quickchart {\n",
              "    background-color: var(--bg-color);\n",
              "    border: none;\n",
              "    border-radius: 50%;\n",
              "    cursor: pointer;\n",
              "    display: none;\n",
              "    fill: var(--fill-color);\n",
              "    height: 32px;\n",
              "    padding: 0;\n",
              "    width: 32px;\n",
              "  }\n",
              "\n",
              "  .colab-df-quickchart:hover {\n",
              "    background-color: var(--hover-bg-color);\n",
              "    box-shadow: 0 1px 2px rgba(60, 64, 67, 0.3), 0 1px 3px 1px rgba(60, 64, 67, 0.15);\n",
              "    fill: var(--button-hover-fill-color);\n",
              "  }\n",
              "\n",
              "  .colab-df-quickchart-complete:disabled,\n",
              "  .colab-df-quickchart-complete:disabled:hover {\n",
              "    background-color: var(--disabled-bg-color);\n",
              "    fill: var(--disabled-fill-color);\n",
              "    box-shadow: none;\n",
              "  }\n",
              "\n",
              "  .colab-df-spinner {\n",
              "    border: 2px solid var(--fill-color);\n",
              "    border-color: transparent;\n",
              "    border-bottom-color: var(--fill-color);\n",
              "    animation:\n",
              "      spin 1s steps(1) infinite;\n",
              "  }\n",
              "\n",
              "  @keyframes spin {\n",
              "    0% {\n",
              "      border-color: transparent;\n",
              "      border-bottom-color: var(--fill-color);\n",
              "      border-left-color: var(--fill-color);\n",
              "    }\n",
              "    20% {\n",
              "      border-color: transparent;\n",
              "      border-left-color: var(--fill-color);\n",
              "      border-top-color: var(--fill-color);\n",
              "    }\n",
              "    30% {\n",
              "      border-color: transparent;\n",
              "      border-left-color: var(--fill-color);\n",
              "      border-top-color: var(--fill-color);\n",
              "      border-right-color: var(--fill-color);\n",
              "    }\n",
              "    40% {\n",
              "      border-color: transparent;\n",
              "      border-right-color: var(--fill-color);\n",
              "      border-top-color: var(--fill-color);\n",
              "    }\n",
              "    60% {\n",
              "      border-color: transparent;\n",
              "      border-right-color: var(--fill-color);\n",
              "    }\n",
              "    80% {\n",
              "      border-color: transparent;\n",
              "      border-right-color: var(--fill-color);\n",
              "      border-bottom-color: var(--fill-color);\n",
              "    }\n",
              "    90% {\n",
              "      border-color: transparent;\n",
              "      border-bottom-color: var(--fill-color);\n",
              "    }\n",
              "  }\n",
              "</style>\n",
              "\n",
              "  <script>\n",
              "    async function quickchart(key) {\n",
              "      const quickchartButtonEl =\n",
              "        document.querySelector('#' + key + ' button');\n",
              "      quickchartButtonEl.disabled = true;  // To prevent multiple clicks.\n",
              "      quickchartButtonEl.classList.add('colab-df-spinner');\n",
              "      try {\n",
              "        const charts = await google.colab.kernel.invokeFunction(\n",
              "            'suggestCharts', [key], {});\n",
              "      } catch (error) {\n",
              "        console.error('Error during call to suggestCharts:', error);\n",
              "      }\n",
              "      quickchartButtonEl.classList.remove('colab-df-spinner');\n",
              "      quickchartButtonEl.classList.add('colab-df-quickchart-complete');\n",
              "    }\n",
              "    (() => {\n",
              "      let quickchartButtonEl =\n",
              "        document.querySelector('#df-cca6661b-5204-4e28-a7e2-7583cdef1698 button');\n",
              "      quickchartButtonEl.style.display =\n",
              "        google.colab.kernel.accessAllowed ? 'block' : 'none';\n",
              "    })();\n",
              "  </script>\n",
              "</div>\n",
              "    </div>\n",
              "  </div>\n"
            ],
            "application/vnd.google.colaboratory.intrinsic+json": {
              "type": "dataframe",
              "variable_name": "buyers_cohort_data",
              "summary": "{\n  \"name\": \"buyers_cohort_data\",\n  \"rows\": 1000,\n  \"fields\": [\n    {\n      \"column\": \"user_id\",\n      \"properties\": {\n        \"dtype\": \"number\",\n        \"std\": 288,\n        \"min\": 1,\n        \"max\": 1000,\n        \"num_unique_values\": 1000,\n        \"samples\": [\n          522,\n          738,\n          741\n        ],\n        \"semantic_type\": \"\",\n        \"description\": \"\"\n      }\n    },\n    {\n      \"column\": \"registration_date\",\n      \"properties\": {\n        \"dtype\": \"object\",\n        \"num_unique_values\": 540,\n        \"samples\": [\n          \"2021-11-26\",\n          \"2021-11-13\",\n          \"2022-08-31\"\n        ],\n        \"semantic_type\": \"\",\n        \"description\": \"\"\n      }\n    },\n    {\n      \"column\": \"activity_1_month\",\n      \"properties\": {\n        \"dtype\": \"number\",\n        \"std\": 0,\n        \"min\": 0,\n        \"max\": 1,\n        \"num_unique_values\": 2,\n        \"samples\": [\n          1,\n          0\n        ],\n        \"semantic_type\": \"\",\n        \"description\": \"\"\n      }\n    },\n    {\n      \"column\": \"activity_3_month\",\n      \"properties\": {\n        \"dtype\": \"number\",\n        \"std\": 0,\n        \"min\": 0,\n        \"max\": 1,\n        \"num_unique_values\": 2,\n        \"samples\": [\n          0,\n          1\n        ],\n        \"semantic_type\": \"\",\n        \"description\": \"\"\n      }\n    },\n    {\n      \"column\": \"activity_6_month\",\n      \"properties\": {\n        \"dtype\": \"number\",\n        \"std\": 0,\n        \"min\": 0,\n        \"max\": 1,\n        \"num_unique_values\": 2,\n        \"samples\": [\n          1,\n          0\n        ],\n        \"semantic_type\": \"\",\n        \"description\": \"\"\n      }\n    },\n    {\n      \"column\": \"activity_12_month\",\n      \"properties\": {\n        \"dtype\": \"number\",\n        \"std\": 0,\n        \"min\": 0,\n        \"max\": 1,\n        \"num_unique_values\": 2,\n        \"samples\": [\n          1,\n          0\n        ],\n        \"semantic_type\": \"\",\n        \"description\": \"\"\n      }\n    }\n  ]\n}"
            }
          },
          "metadata": {},
          "execution_count": 5
        }
      ]
    },
    {
      "cell_type": "code",
      "source": [
        "# Получаем информацию о DataFrame с ПОКУПАТЕЛЯМИ\n",
        "buyers_cohort_data.info()"
      ],
      "metadata": {
        "colab": {
          "base_uri": "https://localhost:8080/"
        },
        "id": "rlSdPe8ZjFYN",
        "outputId": "533cf4a4-71fd-4f37-c58d-0ff0b75d9a81"
      },
      "execution_count": null,
      "outputs": [
        {
          "output_type": "stream",
          "name": "stdout",
          "text": [
            "<class 'pandas.core.frame.DataFrame'>\n",
            "RangeIndex: 1000 entries, 0 to 999\n",
            "Data columns (total 6 columns):\n",
            " #   Column             Non-Null Count  Dtype \n",
            "---  ------             --------------  ----- \n",
            " 0   user_id            1000 non-null   int64 \n",
            " 1   registration_date  1000 non-null   object\n",
            " 2   activity_1_month   1000 non-null   int64 \n",
            " 3   activity_3_month   1000 non-null   int64 \n",
            " 4   activity_6_month   1000 non-null   int64 \n",
            " 5   activity_12_month  1000 non-null   int64 \n",
            "dtypes: int64(5), object(1)\n",
            "memory usage: 47.0+ KB\n"
          ]
        }
      ]
    },
    {
      "cell_type": "markdown",
      "source": [
        "# Раздел 2: Расчет юнит-экономики"
      ],
      "metadata": {
        "id": "RDBf6KaRzGqf"
      }
    },
    {
      "cell_type": "markdown",
      "source": [
        "## 1 . Расчет метрик юнит-экономики"
      ],
      "metadata": {
        "id": "yxPVMBhawrXC"
      }
    },
    {
      "cell_type": "markdown",
      "source": [
        "### 1.1. Средний чек при каждой продаже\n",
        "Формула:\n",
        "\n",
        "- **Средний чек** = Стоимость заказа / Количество заказов\n",
        "\n",
        "Для расчета среднего чека данные по колонке \"Order_Valueпо\" таблице делим общее количество заказов."
      ],
      "metadata": {
        "id": "CUrTWhZsTCOS"
      }
    },
    {
      "cell_type": "code",
      "source": [
        "# Средний чек с каждой продажи\n",
        "average_check = df['Order_Value'].mean()\n",
        "print(f\"Средний чек с каждой продажи: {average_check:.2f} руб.\")\n"
      ],
      "metadata": {
        "colab": {
          "base_uri": "https://localhost:8080/"
        },
        "id": "fuAfcp0YPQ1S",
        "outputId": "5d0b3650-eaf9-43dc-8ad3-45edec29a6f3"
      },
      "execution_count": null,
      "outputs": [
        {
          "output_type": "stream",
          "name": "stdout",
          "text": [
            "Средний чек с каждой продажи: 2009.67 руб.\n"
          ]
        }
      ]
    },
    {
      "cell_type": "markdown",
      "source": [
        "### 1.2. Средняя комиссия с каждой продажи\n",
        "\n",
        "Формула:\n",
        "\n",
        "**1. Средняя комиссия (руб)** = (Стоимость заказа × Ставка комиссии) / Количество заказов​\n",
        "\n",
        "Умножим даанные столбца \"Order_Value\" (полный заказ (в рублях)) на столбец \"Commission_Rate\" (Процент комиссии с каждой продажи) и после  найдем среднее значение.\n",
        "\n",
        "\n",
        "**2. Средняя комиссия (в валютах)** =(Средняя комиссия (в рублях) / Средний чек (в рублях)) × 100 %\n",
        "\n",
        "Где: Средний чек \"average_check\" рассчитывается как среднее значение столбца \"Order_Value\"\n",
        "\n",
        "- Сначала исчислим среднюю комиссию в рублях (п.1).\n",
        "- Далее, делим показатель (п.1) на средний чек (в рублях).\n",
        "- Умножаем на 100, чтобы получить результат в процентах."
      ],
      "metadata": {
        "id": "98iXp8sHTpC3"
      }
    },
    {
      "cell_type": "code",
      "source": [
        "# 1. Средняя комиссия с каждой продажи (руб)\n",
        "df['Commission_Income'] = df['Order_Value'] * df['Commission_Rate']\n",
        "average_commission = df['Commission_Income'].mean()\n",
        "print(f\"Средняя комиссия с каждой продажи: {average_commission:.2f} руб.\")\n"
      ],
      "metadata": {
        "colab": {
          "base_uri": "https://localhost:8080/"
        },
        "id": "mrz_s9_fUL84",
        "outputId": "85243668-654a-49c5-92b4-b34432730ca3"
      },
      "execution_count": null,
      "outputs": [
        {
          "output_type": "stream",
          "name": "stdout",
          "text": [
            "Средняя комиссия с каждой продажи: 201.39 руб.\n"
          ]
        }
      ]
    },
    {
      "cell_type": "code",
      "source": [
        "# 2. Средняя комиссия в процентах\n",
        "average_check = df['Order_Value'].mean()\n",
        "df['Commission_Income'] = df['Order_Value'] * df['Commission_Rate']\n",
        "average_commission_rub = df['Commission_Income'].mean()\n",
        "\n",
        "average_commission_percent = (average_commission_rub / average_check) * 100\n",
        "print(f\"Средняя комиссия с каждой продажи: {average_commission_percent:.2f}%\")\n"
      ],
      "metadata": {
        "colab": {
          "base_uri": "https://localhost:8080/"
        },
        "id": "cWivJVeeWvYq",
        "outputId": "7965e2f5-5b4d-4b9c-9446-2c9df7c23ef4"
      },
      "execution_count": null,
      "outputs": [
        {
          "output_type": "stream",
          "name": "stdout",
          "text": [
            "Средняя комиссия с каждой продажи: 10.02%\n"
          ]
        }
      ]
    },
    {
      "cell_type": "markdown",
      "source": [
        "### 1.3. Средний доход\n",
        "\n",
        "Формула:\n",
        "\n",
        "**Средний доход** = Комиссионный доход + Доход от продвижения + Доход от подписки\n",
        "\n",
        "Суммируемые все источники доходов в столбцах таблицы и вычисляем среднее значение:\n",
        "- \"Commission_Income\" (Комиссионный_доход),\n",
        "- \"Promotion_Income\" (Доход от платного продвижения),\n",
        "- \"Subscription_Income\" (Доход от подписки)."
      ],
      "metadata": {
        "id": "rNjHGJmwXGl8"
      }
    },
    {
      "cell_type": "code",
      "source": [
        "# Средний доход продавца\n",
        "df['Total_Income'] = df['Commission_Income'] + df['Promotion_Income'] + df['Subscription_Income']\n",
        "average_seller_income = df['Total_Income'].mean()\n",
        "print(f\"Средний доход продавца: {average_seller_income:.2f} руб.\")\n"
      ],
      "metadata": {
        "colab": {
          "base_uri": "https://localhost:8080/"
        },
        "id": "lrirJFVWXV5i",
        "outputId": "f692cb81-177d-4ca1-8474-2366092d03c8"
      },
      "execution_count": null,
      "outputs": [
        {
          "output_type": "stream",
          "name": "stdout",
          "text": [
            "Средний доход продавца: 3338.39 руб.\n"
          ]
        }
      ]
    },
    {
      "cell_type": "markdown",
      "source": [
        "### 1.4. Процент продавцов, использующих платные инструменты продвижения\n",
        "\n",
        "Формула:\n",
        "\n",
        "**Процент продавцов с продвижением**\n",
        "=\n",
        "(Количество продавцов с использованием рекламной акции = True / Общее количество продавцов) × 100 %\n",
        "\n",
        "Данные по столбцу сумму кол-во записей по столбцу \"Promotion_Used\" (идентификатор продавцы) с логическим значение \"True\" ( True/ False) разделим на общее кол-во строк в таблице (len(df))\n"
      ],
      "metadata": {
        "id": "un-HM-MHYkGJ"
      }
    },
    {
      "cell_type": "code",
      "source": [
        "# Процент продавцов с платным продвижением\n",
        "promotion_users_percent = (df['Promotion_Used'].sum() / len(df)) * 100\n",
        "print(f\"Процент продавцов, использующих платные инструменты продвижения: {promotion_users_percent:.2f}%\")\n"
      ],
      "metadata": {
        "colab": {
          "base_uri": "https://localhost:8080/"
        },
        "id": "-qaybAbCYrsX",
        "outputId": "3a46b661-67b1-4ad7-fb51-e99e772ce40e"
      },
      "execution_count": null,
      "outputs": [
        {
          "output_type": "stream",
          "name": "stdout",
          "text": [
            "Процент продавцов, использующих платные инструменты продвижения: 50.80%\n"
          ]
        }
      ]
    },
    {
      "cell_type": "markdown",
      "source": [
        "### 1.5. Процент продавцов, использующих платную подписку\n",
        "\n",
        "Формула:\n",
        "\n",
        "**Процент продавцов с подпиской** = (Количество продавцов с подпиской = True / Общее количество продавцов) × 100 %\n",
        "\n",
        "Количество записей по столбцу \"Subscription\" с логическим значением \"True\" (Назначение платной подписки) разделим на общее кол-во строк в таблице (len(df))"
      ],
      "metadata": {
        "id": "NToFO3DvdUIM"
      }
    },
    {
      "cell_type": "code",
      "source": [
        "# Процент продавцов с подпиской\n",
        "subscription_users_percent = (df['Subscription'].sum() / len(df)) * 100\n",
        "print(f\"Процент продавцов, использующих платную подписку: {subscription_users_percent:.2f}%\")\n"
      ],
      "metadata": {
        "colab": {
          "base_uri": "https://localhost:8080/"
        },
        "id": "8aF1m8vDdnfn",
        "outputId": "e3db153a-f1db-4ccb-92b5-7a647520c848"
      },
      "execution_count": null,
      "outputs": [
        {
          "output_type": "stream",
          "name": "stdout",
          "text": [
            "Процент продавцов, использующих платную подписку: 19.90%\n"
          ]
        }
      ]
    },
    {
      "cell_type": "markdown",
      "source": [
        "### 1.6. Интерпретация результатов\n",
        "\n",
        "После выполнения всех расчетов можно вывести метрики в формате отчета:"
      ],
      "metadata": {
        "id": "UB7XbNgClKLo"
      }
    },
    {
      "cell_type": "code",
      "source": [
        "print(f\"\"\"\n",
        "Средний чек с каждой продажи: {average_check:.2f} руб.\n",
        "Средняя комиссия с каждой продажи: {average_commission:.2f} руб.\n",
        "Средний доход продавца: {average_seller_income:.2f} руб.\n",
        "Процент продавцов, использующих платные инструменты продвижения: {promotion_users_percent:.2f}%\n",
        "Процент продавцов, использующих платную подписку: {subscription_users_percent:.2f}%\n",
        "\"\"\")\n"
      ],
      "metadata": {
        "colab": {
          "base_uri": "https://localhost:8080/"
        },
        "id": "QwTe64OYlNXC",
        "outputId": "d1910fbf-0074-4ce9-b061-0b98f82738b0"
      },
      "execution_count": null,
      "outputs": [
        {
          "output_type": "stream",
          "name": "stdout",
          "text": [
            "\n",
            "Средний чек с каждой продажи: 2009.67 руб.\n",
            "Средняя комиссия с каждой продажи: 201.39 руб.\n",
            "Средний доход продавца: 3338.39 руб.\n",
            "Процент продавцов, использующих платные инструменты продвижения: 50.80%\n",
            "Процент продавцов, использующих платную подписку: 19.90%\n",
            "\n"
          ]
        }
      ]
    },
    {
      "cell_type": "markdown",
      "source": [
        "**Выводы**\n",
        "\n",
        "Эти сведения позволяет:\n",
        "\n",
        "- Проанализировать основные источники дохода маркетплейса.\n",
        "- Понять, насколько активно продавцы используют дополнительные платные функции.\n",
        "- Сравнить метрики для оценки эффективности работы платформы."
      ],
      "metadata": {
        "id": "vEt-1shhmNSP"
      }
    },
    {
      "cell_type": "markdown",
      "source": [
        "## 2 . Расчеты ключевых показателей юнит-экономики\n",
        "\n",
        "**Расчеты для покупателей:**\n",
        "(принимаем в расчет показатели, полученные ранее):\n",
        "- Маркетинговые расходы на привлечение покупателей: 3 000 000 рублей в месяц, (сведения предоставлены источником).  \n",
        "- Средний объем привлечения: 2000 покупателей в месяц.\n",
        "- Средний доход с покупателя: 2000 рублей в месяц.\n",
        "- Средняя продолжительность взаимодействия: 24 месяца.\n",
        "\n",
        "**Расчеты для продавцов:**\n",
        "- Маркетинговые расходы на привлечение продавцов:\n",
        "Пропорционально делим общие маркетинговые расходы на привлечение продавцов и покупателей (либо совсем не берем в расчет, если указано что это затраты по маркетингу \"ПОКУПАТЕЛЕЙ\" (следует уточнить у источника)).\n",
        "- Средний объем привлечения: 500 продавцов в месяц.\n",
        "- Доход от подписки: 3000 рублей в месяц.\n",
        "- Удержание продавцов: 40%.\n",
        "- Средняя продолжительность общения: 18 месяцев.\n"
      ],
      "metadata": {
        "id": "IRKazZJrv3vH"
      }
    },
    {
      "cell_type": "markdown",
      "source": [
        "### 2.1. **CAC** - стоимость привлечения одного клиента (покупателя или продавца)\n",
        "(Customer Acquisition Cost).\n",
        "\n",
        "- **САС**   =  Маркетинговые расходы / Количество привлеченных клиентов\n",
        "\n",
        "**ПРИМЕЧАНИЕ:** Маркетинговые расходы для продавцов (указаны в задании) составили так же 3 000 000 руб. вероятно будет корректнее, считать эти затраты общими для обеих групп и для покупателей и для продаавцов"
      ],
      "metadata": {
        "id": "Df6AfOxY9LTK"
      }
    },
    {
      "cell_type": "code",
      "source": [
        "# Распределение маркетинговых расходов\n",
        "total_marketing_cost = 3_000_000  # Общие маркетинговые расходы\n",
        "total_clients = 2000 + 500        # Всего клиентов (покупатели (2000)+ продавцы (500))\n",
        "\n",
        "# Пропорциональное распределение маркетинговых расходов\n",
        "buyer_marketing_cost = total_marketing_cost * (2000 / total_clients)  # Расходы на покупателей\n",
        "seller_marketing_cost = total_marketing_cost * (500 / total_clients)  # Расходы на продавцов\n",
        "\n",
        "# Покупатели: CAC\n",
        "buyer_cac = buyer_marketing_cost / 2000\n",
        "\n",
        "# Продавцы: CAC\n",
        "seller_cac = seller_marketing_cost / 500\n",
        "\n",
        "# Вывод результатов\n",
        "print(f\"Расходы на привлечение покупателей: {buyer_marketing_cost:.2f} руб.\")\n",
        "print(f\"Расходы на привлечение продавцов: {seller_marketing_cost:.2f} руб.\")\n",
        "print(f\"CAC покупателей: {buyer_cac:.2f} руб.\")\n",
        "print(f\"CAC продавцов: {seller_cac:.2f} руб.\")\n"
      ],
      "metadata": {
        "colab": {
          "base_uri": "https://localhost:8080/"
        },
        "id": "wa5SqH5v-sqO",
        "outputId": "c71e80c7-5301-4b73-ea8a-5fd61eac2f38"
      },
      "execution_count": null,
      "outputs": [
        {
          "output_type": "stream",
          "name": "stdout",
          "text": [
            "Расходы на привлечение покупателей: 2400000.00 руб.\n",
            "Расходы на привлечение продавцов: 600000.00 руб.\n",
            "CAC покупателей: 1200.00 руб.\n",
            "CAC продавцов: 1200.00 руб.\n"
          ]
        }
      ]
    },
    {
      "cell_type": "markdown",
      "source": [
        "### LTV (покупателя) - доход за время взаимодействия\n",
        "(Lifetime Value) — доход, который клиент приносит за время взаимодействия с компанией.\n",
        "\n",
        "- **LTV** = Средний доход клиента в месяц × Средняя продолжительность взаимодействия (в месяцах) x Удержание клиентов (%)\n",
        "\n",
        "**1. Расчет LTV для покупателя**\n",
        "- LTV покупателя (пожизненная ценность) — это ожидаемая ожидаемая прибыль, которую маркетплейс получает от одного покупателя за весь период взаимодействия. В нашем случае доход маркетплейса зависит от комиссии за каждую продажу. **Комиссия** — это основной источник дохода для платформы, так как продавцы платят комиссию с каждой транзакции\n",
        "\n",
        "Формула LTV покупателя:\n",
        "ЛТВ (покупатель) = (Средний чек × Среднепроцентная комиссия) × Средняя продолжительность взаимодействия (в месяцах) × Удержание покупателей.\n",
        "\n",
        "**Пояснение:**\n",
        "- Средний чек (**average_check**) : средний чек одной покупки (см. п.1.1 Расчета).\n",
        "- Среднепроцентная комиссия (**average_commission_rate**) : доля дохода маркетплейса с каждой продажи (см. п.1.2 Расчета).\n",
        "- Средняя продолжительность взаимодействия (**buyer_lifetime**) : в месяцах, для покупателя она равна 24 месяцам.\n",
        "- Удержание покупателей (**buyer_retention_rate**) : процент покупателей, оставшихся с платформой в течение всего срока (20%).\n",
        "\n",
        "\n"
      ],
      "metadata": {
        "id": "9QCsJWAv_UDD"
      }
    },
    {
      "cell_type": "code",
      "source": [
        "# Шаг 1: Расчет LTV для покупателя:\n",
        "# Расчет среднего чека и средней комиссии\n",
        "average_check = df['Order_Value'].mean()                # Средний чек с каждой продажи\n",
        "average_commission_rate = df['Commission_Rate'].mean()  # Средний процент комиссии\n",
        "\n",
        "# Параметры взаимодействия покупателей\n",
        "buyer_lifetime = 24         # Средняя продолжительность взаимодействия в месяцах\n",
        "buyer_retention_rate = 0.2  # Удержание покупателей (20%)\n",
        "\n",
        "# Расчет LTV для покупателя\n",
        "buyer_ltv = (average_check * average_commission_rate) * buyer_lifetime * buyer_retention_rate\n",
        "\n",
        "# Вывод результатов\n",
        "print(f\"Средний чек: {average_check:.2f} руб.\")\n",
        "print(f\"Средний процент комиссии: {average_commission_rate:.2%}\")\n",
        "print(f\"LTV покупателя: {buyer_ltv:.2f} руб.\")\n"
      ],
      "metadata": {
        "colab": {
          "base_uri": "https://localhost:8080/"
        },
        "id": "Z7uIIHF0MMZq",
        "outputId": "b5e78bb0-b6c8-4a62-b413-fe3594ea001e"
      },
      "execution_count": null,
      "outputs": [
        {
          "output_type": "stream",
          "name": "stdout",
          "text": [
            "Средний чек: 2009.67 руб.\n",
            "Средний процент комиссии: 10.01%\n",
            "LTV покупателя: 966.05 руб.\n"
          ]
        }
      ]
    },
    {
      "cell_type": "markdown",
      "source": [
        "### LTV (продавца) - доход за время взаимодействия\n",
        "(Lifetime Value) — это ожидаемая ожидаемая прибыль, которую маркетплейс получает от одной продажи за весь период взаимодействия.\n",
        "\n",
        "Формула:  \n",
        "\n",
        "**ЛТВ (продавца)** =  (Средний доход с продавца (в месяц)−Операционные затраты на продавца (в месяц)) × Средняя продолжительность взаимодействия (в месяцах) × Удержание продавцов.\n",
        "\n",
        "**Пояснение:**\n",
        "\n",
        "- Средний доход с продаж (в месяц) :\n",
        "(см. п.1.3 Расчета)  среднее значение столбца **Total_Income**(включает комиссию, продвижение и подписку).\n",
        "- Операционные затраты на одну торговлю (в месяц) :\n",
        "- Указаны в исходных данных: 1000 рублей за одну продажу.\n",
        "- Средняя продолжительность взаимодействия (seller_lifetime) :  Для продажи равно 18 месяцам .\n",
        "- Удержание продавцов (seller_retention_rate) :\n",
        "Процент продавцов, оставшихся с платформой: 40% ."
      ],
      "metadata": {
        "id": "DAxtGr_7Panc"
      }
    },
    {
      "cell_type": "code",
      "source": [
        "# Ранее рассчитанный средний доход с продавца\n",
        "average_seller_income = df['Total_Income'].mean()  # Средний доход с одного продавца\n",
        "\n",
        "# Расходы на обслуживание каждого продавца: 1000 рублей в месяц\n",
        "operating_cost_per_seller = 1000  # в рублях\n",
        "\n",
        "# Параметры взаимодействия продавцов\n",
        "seller_lifetime = 18  # Средняя продолжительность взаимодействия (в месяцах)\n",
        "seller_retention_rate = 0.4  # Удержание продавцов (40%)\n",
        "\n",
        "# Расчет LTV для продавца\n",
        "seller_ltv = (average_seller_income - operating_cost_per_seller) * seller_lifetime * seller_retention_rate\n",
        "\n",
        "# Вывод результатов\n",
        "print(f\"Средний доход с продавца (в месяц): {average_seller_income:.2f} руб.\")\n",
        "print(f\"Операционные затраты на продавца (в месяц): {operating_cost_per_seller:.2f} руб.\")\n",
        "print(f\"LTV продавца с учетом операционных затрат: {seller_ltv:.2f} руб.\")\n"
      ],
      "metadata": {
        "colab": {
          "base_uri": "https://localhost:8080/"
        },
        "id": "QwygvcVTSh1N",
        "outputId": "d07de6b2-e7f6-43c0-ad97-8c22d2a4e51f"
      },
      "execution_count": null,
      "outputs": [
        {
          "output_type": "stream",
          "name": "stdout",
          "text": [
            "Средний доход с продавца (в месяц): 3338.39 руб.\n",
            "Операционные затраты на продавца (в месяц): 1000.00 руб.\n",
            "LTV продавца с учетом операционных затрат: 16836.44 руб.\n"
          ]
        }
      ]
    },
    {
      "cell_type": "code",
      "source": [
        "# Финальные результаты\n",
        "print(f\"Итоговый LTV покупателя: {buyer_ltv:.2f} руб.\")\n",
        "print(f\"Итоговый LTV продавца с учетом затрат: {seller_ltv:.2f} руб.\")\n"
      ],
      "metadata": {
        "colab": {
          "base_uri": "https://localhost:8080/"
        },
        "id": "zoeutNKVTvaO",
        "outputId": "ee9292aa-4fbf-46d3-a84a-3be0b3ac6c68"
      },
      "execution_count": null,
      "outputs": [
        {
          "output_type": "stream",
          "name": "stdout",
          "text": [
            "Итоговый LTV покупателя: 966.05 руб.\n",
            "Итоговый LTV продавца с учетом затрат: 16836.44 руб.\n"
          ]
        }
      ]
    },
    {
      "cell_type": "markdown",
      "source": [
        "### ROI - рентабельность привлечения клиента\n",
        "\n",
        "(Return on Investment)\n",
        "\n",
        "- **ROI** = ( ЛТВ − САС ) / САС × 100 %\n",
        "\n",
        "Где:\n",
        "\n",
        "- LTV — это доход, который приносит одному клиенту (покупателю или продавцу) за весь срок взаимодействия с учётом всех затрат.\n",
        "- CAC — это стоимость привлечения одного клиента (только маркетинговые расходы на привлечение клиента).\n",
        "- ROI = рентабельность с учетом только LTV и CAC , без операционных затрат.\n",
        "\n",
        "Рентабельность инвестиций рассчитывается отдельно для покупателей и продавцов.\n",
        "\n",
        "Окупаемость инвестиций не должна учитывать операционные или другие дополнительные затраты. Используются только CAC как затраты на привлечение, чтобы оценить рентабельность маркетинговых инвестиций.\n",
        "\n",
        "**Роль операционных затрат:**\n",
        "Операционные расходы не учитываются в расчете CAC и ROI , но их необходимо учитывать при оценке общей прибыльности бизнеса (например, через EBITDA или чистую прибыль)."
      ],
      "metadata": {
        "id": "201TQGa19ZJR"
      }
    },
    {
      "cell_type": "code",
      "source": [
        "# Расчет ROI\n",
        "buyer_roi = ((buyer_ltv - buyer_cac) / buyer_cac) * 100       # ROI покупателей\n",
        "seller_roi = ((seller_ltv - seller_cac) / seller_cac) * 100   # ROI продавцов\n",
        "\n",
        "# Вывод результатов\n",
        "print(f\"CAC покупателей: {buyer_cac:.2f} руб.\")\n",
        "print(f\"CAC продавцов: {seller_cac:.2f} руб.\")\n",
        "print(f\"ROI покупателей: {buyer_roi:.2f}%\")\n",
        "print(f\"ROI продавцов: {seller_roi:.2f}%\")\n"
      ],
      "metadata": {
        "colab": {
          "base_uri": "https://localhost:8080/"
        },
        "id": "M1FGlCa-YAsh",
        "outputId": "be252b58-fb5b-4b6b-f901-af13a5dabd40"
      },
      "execution_count": null,
      "outputs": [
        {
          "output_type": "stream",
          "name": "stdout",
          "text": [
            "CAC покупателей: 1200.00 руб.\n",
            "CAC продавцов: 1200.00 руб.\n",
            "ROI покупателей: -19.50%\n",
            "ROI продавцов: 1303.04%\n"
          ]
        }
      ]
    },
    {
      "cell_type": "markdown",
      "source": [
        "**Итог:**\n",
        "Текущий ROI протавцов (1303%) технически верен, если считать только LTV и CAC . Но для оценки эффективности работы продавца стоит пересмотреть дополнительные расходы (например, на обслуживание и уточнить маркетинговые расходы)."
      ],
      "metadata": {
        "id": "w4IbiUOgZ8fa"
      }
    },
    {
      "cell_type": "markdown",
      "source": [
        "## 3 . Проблемные зоны в модели бизнеса\n",
        "\n",
        "На основе предоставленных данных и рассчитанных показателей, выделим ключевые проблемные зоны:\n",
        "\n",
        "---\n",
        "\n",
        "#### **3.1. Отрицательный ROI покупателей (-19.50%)**\n",
        "- Средняя прибыль с одного покупателя (LTV = 966.05 руб.) **меньше CAC покупателей (1200 руб.)**, что указывает на убыточность привлечения покупателей.\n",
        "- Основная причина:  \n",
        "  - Низкий LTV покупателя относительно затрат на привлечение.  \n",
        "  - Это связано с небольшой средней комиссией (201.39 руб.) и относительно коротким сроком удержания покупателей (24 месяца), особенно при учёте низкой ставки удержания (20%).\n",
        "\n",
        "---\n",
        "\n",
        "#### **3.2. Низкая монетизация продавцов**\n",
        "- Хотя ROI продавцов очень высокий (1303.04%), только 19.9% продавцов используют платную подписку, а 50.8% — платные инструменты продвижения. Это значит, что:\n",
        "  - Потенциал дополнительного дохода от подписок и продвижения далеко не раскрыт.\n",
        "  - Есть значительное количество \"базовых\" продавцов, не генерирующих дополнительный доход.\n",
        "\n",
        "---\n",
        "\n",
        "#### **3.3. Высокие операционные расходы на продавцов**\n",
        "- Расходы на обслуживание одного продавца составляют **1,000 руб. в месяц**, что может быть значительным для платформы с большим количеством продавцов. При этом 40% продавцов остаются на платформе (удержание), а 60% уходят, что снижает рентабельность.\n",
        "\n",
        "---\n",
        "\n",
        "#### **3.4. Низкий процент удержания клиентов**\n",
        "- Удержание покупателей — 20%:  \n",
        "  Это указывает на высокий уровень оттока, который требует дополнительных маркетинговых вложений для замены уходящих клиентов.\n",
        "- Удержание продавцов — 40%:  \n",
        "  Хотя это лучше, чем у покупателей, отток всё ещё значителен, особенно для продавцов, которые могут быть основным источником дохода платформы.\n",
        "\n",
        "---\n",
        "\n",
        "### **Итог**\n",
        "- **Основная проблема**: Отрицательный ROI покупателей. Нужно оптимизировать привлечение и улучшить удержание.  \n",
        "- **Потенциал роста**: Увеличение доли продавцов, использующих платные функции, и оптимизация операционных затрат.  "
      ],
      "metadata": {
        "id": "ElYIyZBmvAKc"
      }
    },
    {
      "cell_type": "markdown",
      "source": [
        "## 4 . Планы по оптимизации CAC и увеличению LTV\n",
        "\n",
        "#### **4.1. Оптимизация CAC**\n",
        "\n",
        "1. **Для покупателей:**\n",
        "   - Пересмотреть маркетинговую стратегию:  \n",
        "     Сконцентрироваться на более эффективных каналах привлечения. Например:\n",
        "     - Использовать ретаргетинг для увеличения возврата существующих клиентов.\n",
        "     - Увеличить долю бесплатных каналов (например, органический трафик, реферальные программы).\n",
        "   - Снизить стоимость привлечения, внедрив:\n",
        "     - Партнёрские программы с бонусами для покупателей.\n",
        "     - Интеграции с популярными приложениями (например, программы лояльности).\n",
        "\n",
        "2. **Для продавцов:**\n",
        "   - Фокус на удержании:  \n",
        "     Улучшение опыта продавцов и предоставление выгодных условий на платформе. Например:\n",
        "     - Обучающие материалы или программы по оптимизации продаж.\n",
        "     - Специальные скидки или бонусы для активных продавцов.\n",
        "\n",
        "---\n",
        "\n",
        "#### **4.2. Увеличение LTV**\n",
        "\n",
        "1. **Для покупателей:**\n",
        "   - **Увеличение среднего чека:**\n",
        "     - Внедрение рекомендаций товаров для увеличения покупок.\n",
        "     - Программы лояльности с бонусами за более частые или крупные покупки.\n",
        "   - **Увеличение удержания:**\n",
        "     - Запуск акций для возвращения старых клиентов (например, персонализированные предложения).\n",
        "     - Увеличение срока удержания (24 месяца) через более качественный клиентский опыт.\n",
        "   - **Повышение комиссии:**\n",
        "     - Пересмотреть тарифы для определённых категорий товаров.\n",
        "\n",
        "2. **Для продавцов:**\n",
        "   - **Повышение подписочной базы:**\n",
        "     - Предложить более гибкие планы подписки с различным функционалом.\n",
        "     - Бесплатный пробный период для новых пользователей.  \n",
        "   - **Повышение дохода от продвижения:**\n",
        "     - Демонстрация эффективности рекламных инструментов через аналитические отчёты для продавцов.\n",
        "     - Скидки или акции на рекламные услуги для повышения вовлечённости.\n",
        "   - **Увеличение удержания (40%):**\n",
        "     - Регулярные отзывы и улучшения платформы на основе запросов продавцов.\n",
        "     - Постоянная поддержка (например, через выделенного менеджера для крупных продавцов).\n",
        "\n",
        "---\n",
        "\n",
        "#### **4.3. Снижение операционных затрат**\n",
        "- Автоматизация процессов:  \n",
        "  - Использование чат-ботов и автоматизированных систем для поддержки продавцов.\n",
        "- Оптимизация серверных мощностей и операционных ресурсов.\n",
        "\n",
        "---\n",
        "\n",
        "### **Итог**\n",
        "- **Ключевая рекомендация**: Увеличить доходы от существующих клиентов (покупателей и продавцов) и снизить затраты на привлечение."
      ],
      "metadata": {
        "id": "WiSAEoy8eE1x"
      }
    },
    {
      "cell_type": "markdown",
      "source": [
        "# Раздел 3: Кагортный анализ\n",
        "\n",
        "**Цели когортного анализа:**\n",
        "- выявить когорты с высоким и низким удержанием;\n",
        "- определить, на каких этапах происходит отток пользователей;\n",
        "- оценить успешность маркетинговых кампаний или улучшений в продукте.\n",
        "\n",
        "**Результат обрааботки данных**\n",
        "- **Теплая карта покупателей**: показывает удержание покупателями валют по когортам.\n",
        "- **Тепловая карта продавцов**: показывает удержание продавцов в процентах по когортам."
      ],
      "metadata": {
        "id": "BRZOqG75LZ0A"
      }
    },
    {
      "cell_type": "markdown",
      "source": [
        "### 1 . Подготовка и генерация когортной таблицы"
      ],
      "metadata": {
        "id": "75tbppQP2zOA"
      }
    },
    {
      "cell_type": "code",
      "source": [
        "# Функция для создания когортной таблицы:\n",
        "def create_cohort_table(df, id_col, reg_col, activity_cols):\n",
        "    # Преобразуем дату регистрации в формат datetime\n",
        "    df[reg_col] = pd.to_datetime(df[reg_col])\n",
        "\n",
        "    # Создаем колонку с месяцем регистрации\n",
        "    df['cohort_month'] = df[reg_col].dt.to_period('M')\n",
        "\n",
        "    # Переход к долгому формату для анализа активности\n",
        "    cohort_data = pd.melt(df, id_vars=['cohort_month'],\n",
        "                          value_vars=activity_cols,\n",
        "                          var_name='activity_period',\n",
        "                          value_name='active')\n",
        "\n",
        "    # Переводим периоды активности в числовой формат\n",
        "    cohort_data['activity_period'] = cohort_data['activity_period'].str.extract(r'(\\d+)').astype(int)\n",
        "\n",
        "    # Считаем количество активных пользователей для каждой когорты и периода\n",
        "    cohort_table = (cohort_data.groupby(['cohort_month', 'activity_period'])\n",
        "                                 .agg({'active': ['sum', 'count']}))\n",
        "    cohort_table.columns = ['active_count', 'total_count']\n",
        "    cohort_table.reset_index(inplace=True)\n",
        "\n",
        "    # Рассчитываем удержание в процентах\n",
        "    cohort_table['retention_rate'] = (cohort_table['active_count'] /\n",
        "                                      cohort_table['total_count']) * 100\n",
        "\n",
        "    # Создаем таблицу в виде сводной (для тепловой карты)\n",
        "    cohort_pivot = cohort_table.pivot(index='cohort_month',\n",
        "                                      columns='activity_period',\n",
        "                                      values='retention_rate')\n",
        "    return cohort_pivot\n"
      ],
      "metadata": {
        "id": "zWxcCFkpLfKR"
      },
      "execution_count": null,
      "outputs": []
    },
    {
      "cell_type": "code",
      "source": [
        "# Когорта для ПРОДАВЦОВ\n",
        "seller_cohort = create_cohort_table(\n",
        "    df,\n",
        "    id_col='seller_id',\n",
        "    reg_col='registration_date',\n",
        "    activity_cols=['activity_1_month', 'activity_3_month', 'activity_6_month', 'activity_12_month']\n",
        ")\n",
        "\n",
        "# Когорта для Покупателей\n",
        "buyer_cohort = create_cohort_table(\n",
        "    buyers_cohort_data,\n",
        "    id_col='user_id',\n",
        "    reg_col='registration_date',\n",
        "    activity_cols=['activity_1_month', 'activity_3_month', 'activity_6_month', 'activity_12_month']\n",
        ")\n"
      ],
      "metadata": {
        "id": "kntZ6c-63FyW"
      },
      "execution_count": null,
      "outputs": []
    },
    {
      "cell_type": "markdown",
      "source": [
        "## 2 . Построение тепловой карты"
      ],
      "metadata": {
        "id": "rOYWAiNs5UDJ"
      }
    },
    {
      "cell_type": "code",
      "source": [
        "def plot_cohort_heatmaps_side_by_side(buyer_cohort, seller_cohort):\n",
        "    fig, axes = plt.subplots(1, 2, figsize=(20, 8))  # Убрали sharey=True\n",
        "\n",
        "    # Устанавливаем общий диапазон для цветовой шкалы\n",
        "    min_value = min(buyer_cohort.min().min(), seller_cohort.min().min())\n",
        "    max_value = max(buyer_cohort.max().max(), seller_cohort.max().max())\n",
        "\n",
        "    # Покупатели\n",
        "    sns.heatmap(\n",
        "        buyer_cohort,\n",
        "        annot=True,\n",
        "        fmt=\".1f\",\n",
        "        cmap=\"Blues\",\n",
        "        linewidths=0.5,\n",
        "        ax=axes[0],\n",
        "        vmin=min_value,\n",
        "        vmax=max_value,\n",
        "        cbar_kws={'label': 'Процент удержания'}\n",
        "    )\n",
        "    axes[0].set_title(\"Тепловая карта (% удержания) \\n по Покупателям (Buyers) \\n\", fontsize=16, fontweight='bold')\n",
        "    axes[0].set_ylabel(\"Дата регистрации (месяц)\", fontsize=12)\n",
        "    axes[0].set_xlabel(\"Активный период (в месяцах)\", fontsize=12)\n",
        "    axes[0].set_yticks(range(len(buyer_cohort.index)))\n",
        "    axes[0].set_yticklabels(buyer_cohort.index.strftime('%Y-%m'), rotation=0)  # Метки оси Y\n",
        "    axes[0].set_xticklabels(buyer_cohort.columns, fontweight=\"bold\")  # Жирный шрифт на X\n",
        "\n",
        "    # Продавцы\n",
        "    sns.heatmap(\n",
        "        seller_cohort,\n",
        "        annot=True,\n",
        "        fmt=\".1f\",\n",
        "        cmap=\"Greens\",\n",
        "        linewidths=0.5,\n",
        "        ax=axes[1],\n",
        "        vmin=min_value,\n",
        "        vmax=max_value,\n",
        "        cbar_kws={'label': 'Процент удержания'}\n",
        "    )\n",
        "    axes[1].set_title(\"Тепловая карта (% удержания) \\n по Продавцам (Sellers) \\n\", fontsize=16, fontweight='bold')\n",
        "    axes[1].set_ylabel(\"Дата регистрации (месяц)\", fontsize=12)\n",
        "    axes[1].set_xlabel(\"Активный период (в месяцах)\", fontsize=12)\n",
        "    axes[1].set_yticks(range(len(seller_cohort.index)))\n",
        "    axes[1].set_yticklabels(seller_cohort.index.strftime('%Y-%m'), rotation=0)  # Метки оси Y\n",
        "    axes[1].set_xticklabels(seller_cohort.columns, fontweight=\"bold\")  # Жирный шрифт на X\n",
        "\n",
        "    plt.tight_layout()\n",
        "    plt.show()\n",
        "\n",
        "# Построение тепловых карт\n",
        "plot_cohort_heatmaps_side_by_side(buyer_cohort, seller_cohort)\n"
      ],
      "metadata": {
        "colab": {
          "base_uri": "https://localhost:8080/",
          "height": 555
        },
        "id": "kDBu5zf1Fom6",
        "outputId": "b6588363-0904-4990-a2c6-a5a408fce8bc"
      },
      "execution_count": null,
      "outputs": [
        {
          "output_type": "display_data",
          "data": {
            "text/plain": [
              "<Figure size 2000x800 with 4 Axes>"
            ],
            "image/png": "[encoded data removed]"
          },
          "metadata": {}
        }
      ]
    },
    {
      "cell_type": "markdown",
      "source": [
        "## 3 . Статистический анализ данных по кагорте"
      ],
      "metadata": {
        "id": "2DqvkvCGNyPC"
      }
    },
    {
      "cell_type": "code",
      "source": [
        "def cohort_statistics(cohort):\n",
        "    \"\"\"\n",
        "    Функция для расчета статистических данных по когорте:\n",
        "    среднее, медиана, процент удержания на каждом этапе.\n",
        "    \"\"\"\n",
        "    stats = pd.DataFrame({\n",
        "        \"Среднее (%)\": cohort.mean(),\n",
        "        \"Медиана (%)\": cohort.median(),\n",
        "        \"Макс. удержание (%)\": cohort.max(),\n",
        "        \"Мин. удержание (%)\": cohort.min()\n",
        "    })\n",
        "    stats[\"Процент когорты, достигшей этапа (%)\"] = cohort.notnull().mean() * 100\n",
        "    return stats\n",
        "\n",
        "# Расчет статистики для покупателей и продавцов\n",
        "buyer_stats = cohort_statistics(buyer_cohort)\n",
        "seller_stats = cohort_statistics(seller_cohort)\n",
        "\n",
        "# Вывод статистики\n",
        "print(\"Статистика когортного анализа покупателей:\")\n",
        "print(buyer_stats)\n",
        "print(\"\\nСтатистика когортного анализа продавцов:\")\n",
        "print(seller_stats)\n"
      ],
      "metadata": {
        "colab": {
          "base_uri": "https://localhost:8080/"
        },
        "id": "NgEDrNkCLrlb",
        "outputId": "d5b0b79b-5fe6-4f00-f6ef-1be913a1151c"
      },
      "execution_count": null,
      "outputs": [
        {
          "output_type": "stream",
          "name": "stdout",
          "text": [
            "Статистика когортного анализа покупателей:\n",
            "                 Среднее (%)  Медиана (%)  Макс. удержание (%)  \\\n",
            "activity_period                                                  \n",
            "1                  31.928607    30.157343            54.545455   \n",
            "3                  20.017750    17.914439            34.090909   \n",
            "6                  10.349177     9.347826            20.454545   \n",
            "12                  4.627084     4.444444            13.157895   \n",
            "\n",
            "                 Мин. удержание (%)  Процент когорты, достигшей этапа (%)  \n",
            "activity_period                                                            \n",
            "1                         19.512195                                 100.0  \n",
            "3                          7.692308                                 100.0  \n",
            "6                          2.777778                                 100.0  \n",
            "12                         0.000000                                 100.0  \n",
            "\n",
            "Статистика когортного анализа продавцов:\n",
            "                 Среднее (%)  Медиана (%)  Макс. удержание (%)  \\\n",
            "activity_period                                                  \n",
            "1                  62.927986    63.397129            80.952381   \n",
            "3                  49.919356    47.442455            71.428571   \n",
            "6                  28.005124    25.657895            41.666667   \n",
            "12                 17.463570    17.156863            35.714286   \n",
            "\n",
            "                 Мин. удержание (%)  Процент когорты, достигшей этапа (%)  \n",
            "activity_period                                                            \n",
            "1                         35.714286                                 100.0  \n",
            "3                         33.333333                                 100.0  \n",
            "6                         14.285714                                 100.0  \n",
            "12                         4.166667                                 100.0  \n"
          ]
        }
      ]
    },
    {
      "cell_type": "markdown",
      "source": [
        "## 4 . Выводы и рекомендации по кагортному анализу\n",
        "\n",
        "#### 1. **Покупатели (Buyer Cohort Analysis)**:\n",
        "- **Средний процент удержания:**\n",
        "  - Удержание покупателей на 1-й месяц составляет 31.93%, но сильно падает с течением времени: на 12-й месяц удержание падает до 4.63%.\n",
        "  - Среднее удержание за 12 месяцев — всего 4.63%, что указывает на значительный спад активности пользователей с каждым месяцем.\n",
        "\n",
        "- **Максимальное удержание:**\n",
        "  - Максимальное удержание на 1-й месяц составляет 54.55%, но падает до 13.16% на 12-й месяц. Это также подтверждает ухудшение удержания пользователей в долгосрочной перспективе.\n",
        "\n",
        "- **Процент когорты, достигшей этапа:**\n",
        "  - Для всех периодов (1, 3, 6, 12 месяцев) процент пользователей, достигших соответствующего этапа, составляет 100%, что говорит о том, что когорта в целом не теряет пользователей в процессе анализа (на каждом этапе активных пользователей всегда было 100%).\n",
        "\n",
        "**Рекомендации для покупателей:**\n",
        "- **Удержание и вовлеченность:** Снижение удержания пользователей с течением времени может быть связано с отсутствием постоянного вовлечения и мотивации. Необходимо сосредоточиться на:\n",
        "  1. Повышении активности пользователей через рассылки, персонализированные предложения и акции.\n",
        "  2. Разработке программы лояльности или бонусов для активных пользователей, чтобы стимулировать их возвращение на платформу.\n",
        "  3. Улучшении пользовательского опыта для увеличения вовлеченности, например, через улучшение интерфейса или персонализированные рекомендации товаров.\n",
        "\n",
        "- **Улучшение конверсии:** Снижение активности на более поздних этапах также говорит о том, что нужно больше внимания уделить конверсии пользователей в реальные покупки и повышению их ценности.\n",
        "\n",
        "#### 2. **Продавцы (Seller Cohort Analysis):**\n",
        "- **Средний процент удержания:**\n",
        "  - Удержание продавцов на 1-й месяц составляет 62.93%, но также падает с течением времени: на 12-й месяц оно снижается до 17.46%. Это подтверждает тенденцию утраты продавцов со временем.\n",
        "\n",
        "- **Максимальное удержание:**\n",
        "  - Максимальное удержание на 1-й месяц составляет 80.95%, но с течением времени оно падает до 35.71%. Это также подтверждает существенное снижение удержания продавцов на платформе.\n",
        "\n",
        "- **Процент когорты, достигшей этапа:**\n",
        "  - Для всех периодов (1, 3, 6, 12 месяцев) процент продавцов, достигших соответствующего этапа, составляет 100%, что аналогично ситуации с покупателями: это говорит о том, что анализируется активность всех продавцов, без пропусков.\n",
        "\n",
        "**Рекомендации для продавцов:**\n",
        "- **Удержание и вовлеченность:** Снижение удержания продавцов также является ключевым фактором. Рекомендации для повышения удержания:\n",
        "  1. Снижение уровня оттока продавцов с помощью предложений по улучшению их бизнес-результатов, таких как маркетинговая поддержка, персонализированные рекомендации по продажам, улучшение видимости товаров на платформе.\n",
        "  2. Разработка более выгодных условий для продавцов, которые используют платные инструменты продвижения или подписку.\n",
        "  3. Развитие долгосрочных отношений с продавцами через регулярное обучение, а также создание сообщества для обмена опытом и развития бизнеса.\n",
        "\n",
        "- **Оптимизация затрат и доходов:** Поддержка продавцов в увеличении их доходности через внедрение новых функций или предложений от маркетплейса может способствовать улучшению их удержания и результативности."
      ],
      "metadata": {
        "id": "SkD_CfDlLqAi"
      }
    },
    {
      "cell_type": "markdown",
      "source": [
        "\n",
        "## 5 . Проблемы и решения:\n",
        "\n",
        "1. **Низкое удержание покупателей и продавцов:**\n",
        "   - **Проблема:** Спад удержания пользователей и продавцов после первого месяца. Это может быть вызвано недостаточной мотивацией продолжать использовать платформу.\n",
        "   - **Решение:** Внедрение программ лояльности, регулярные акции, улучшение клиентского сервиса и увеличение вовлеченности через персонифицированные предложения.\n",
        "\n",
        "2. **Отток продавцов:**\n",
        "   - **Проблема:** Продавцы теряются на более поздних этапах (особенно на 6-12 месяце). Это может быть вызвано отсутствием интереса к долгосрочной работе с платформой.\n",
        "   - **Решение:** Повышение привлекательности условий для продавцов (например, улучшение условий по комиссионным сборам, внедрение специальных предложений, поддержка с использованием продвинутых маркетинговых инструментов).\n",
        "\n",
        "3. **Снижение активности покупателей:**\n",
        "   - **Проблема:** Падение активности покупателей с течением времени.\n",
        "   - **Решение:** Увеличение вовлеченности через улучшение рекомендаций товаров, внедрение персонализированных предложений и скидок, улучшение юзабилити сайта, чтобы сделать покупательский процесс удобным и быстрым.\n",
        "\n",
        "4. **Неэффективность долгосрочных отношений с покупателями и продавцами:**\n",
        "   - **Проблема:** Платформа теряет пользователей и продавцов со временем.\n",
        "   - **Решение:** Внедрение программ долгосрочного сотрудничества, такие как скидки на подписку, специальные предложения и дополнительные бонусы за активность и продажи.\n",
        "\n",
        "**Общий вывод:**\n",
        "Для повышения общей эффективности бизнеса на платформе важно работать над улучшением удержания и вовлеченности как покупателей, так и продавцов, внедряя программы лояльности, поддерживающие инструменты продвижения и персонализированные предложения."
      ],
      "metadata": {
        "id": "399RKxrvSWP3"
      }
    },
    {
      "cell_type": "markdown",
      "source": [
        "# Раздел 4: Итоговые выводы и рекомендации по юнит-экономике маркетплейса\n",
        "\n",
        "#### **Общие выводы:**\n",
        "\n",
        "1. **Низкая рентабельность привлечения покупателей**:\n",
        "   - Отрицательный ROI для покупателей (-19.50%) указывает на убыточность привлечения клиентов. Проблема связана с невысокой LTV и высокими затратами на привлечение (CAC).\n",
        "\n",
        "2. **Низкое удержание покупателей**:\n",
        "   - Удержание покупателей на платформе остаётся низким (20%), что приводит к высоким затратам на привлечение новых клиентов и необходимость повышения качества клиентского опыта для их возвращения.\n",
        "\n",
        "3. **Невысокая монетизация продавцов**:\n",
        "   - Хотя ROI продавцов высокий (1303.04%), большая часть продавцов не использует дополнительные платные инструменты (подписки и продвижение), что свидетельствует о недоиспользованном потенциале дополнительных доходов.\n",
        "\n",
        "4. **Высокий отток продавцов**:\n",
        "   - Продавцы теряются в процессе работы на платформе: удержание на уровне 40% означает, что значительная часть продавцов не генерирует дополнительный доход, а значит, пропущен потенциал роста.\n",
        "\n",
        "5. **Операционные расходы на обслуживание продавцов**:\n",
        "   - Высокие операционные расходы на каждого продавца (1000 руб./мес.) при низком уровне удержания увеличивают нагрузку на платформу и снижают её рентабельность.\n",
        "\n",
        "6. **Когортный анализ показывает спад активности**:\n",
        "   - Снижение удержания среди как покупателей, так и продавцов с течением времени, особенно на 6 и 12 месяце, говорит о необходимости работы над долгосрочными стратегиями удержания.\n",
        "\n",
        "#### **Рекомендации:**\n",
        "\n",
        "1. **Оптимизация CAC и увеличение LTV покупателей**:\n",
        "   - **Снижение CAC**: Пересмотреть маркетинговую стратегию, акцентировать внимание на более дешевых каналах привлечения (реферальные программы, органический трафик).\n",
        "   - **Увеличение LTV**: Внедрить программы лояльности, персонализированные предложения и рекомендации товаров, чтобы увеличить средний чек и срок удержания.\n",
        "\n",
        "2. **Оптимизация монетизации продавцов**:\n",
        "   - **Увеличение использования подписок**: Предложить гибкие тарифы и бесплатные пробные периоды для привлечения новых пользователей к платным подпискам.\n",
        "   - **Повышение дохода от продвижения**: Разработать программы для повышения вовлеченности продавцов в платные инструменты продвижения.\n",
        "\n",
        "3. **Удержание продавцов**:\n",
        "   - Предоставление качественной поддержки и обучение для продавцов, а также внедрение специальных бонусов и скидок для активных продавцов.\n",
        "   - Внедрение постоянного мониторинга и анализа потребностей продавцов для улучшения их взаимодействия с платформой.\n",
        "\n",
        "4. **Снижение операционных затрат**:\n",
        "   - Использование автоматизации процессов (например, чат-ботов) и оптимизация серверных мощностей для снижения затрат на обслуживание продавцов и покупателей.\n",
        "\n",
        "5. **Повышение удержания**:\n",
        "   - Для продавцов: улучшение условий работы и поддержка на каждом этапе их развития на платформе.\n",
        "   - Для покупателей: разработка стратегий, направленных на возвращение ушедших клиентов через акции, персонализированные предложения и улучшение клиентского опыта.\n",
        "\n",
        "#### **Итог**:\n",
        "Основной задачей является увеличение доходов от существующих пользователей (покупателей и продавцов) через улучшение удержания и монетизации, а также снижение затрат на привлечение. Это поможет стабилизировать финансовые потоки платформы и повысить её рентабельность."
      ],
      "metadata": {
        "id": "bbBrVq-DQGRR"
      }
    }
  ]
}